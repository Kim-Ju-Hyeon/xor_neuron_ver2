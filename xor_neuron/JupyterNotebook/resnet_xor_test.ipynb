{
 "cells": [
  {
   "cell_type": "code",
   "execution_count": 1,
   "id": "c5ec6cee",
   "metadata": {},
   "outputs": [],
   "source": [
    "import sys\n",
    "\n",
    "sys.path.append('../')"
   ]
  },
  {
   "cell_type": "code",
   "execution_count": 2,
   "id": "6e7e213e",
   "metadata": {},
   "outputs": [],
   "source": [
    "import pickle\n",
    "from glob import glob\n",
    "import os\n",
    "import yaml\n",
    "from easydict import EasyDict as edict\n",
    "import numpy as np\n",
    "import torch"
   ]
  },
  {
   "cell_type": "code",
   "execution_count": 3,
   "id": "74e2e466",
   "metadata": {},
   "outputs": [],
   "source": [
    "from model.resnet_xor import *\n",
    "from model.resnet import *"
   ]
  },
  {
   "cell_type": "code",
   "execution_count": 4,
   "id": "9860646c",
   "metadata": {},
   "outputs": [],
   "source": [
    "from torchvision import transforms, datasets\n",
    "from torch.utils.data import DataLoader, random_split, ConcatDataset"
   ]
  },
  {
   "cell_type": "code",
   "execution_count": 5,
   "id": "a33f2915",
   "metadata": {},
   "outputs": [
    {
     "name": "stdout",
     "output_type": "stream",
     "text": [
      "Files already downloaded and verified\n"
     ]
    }
   ],
   "source": [
    "transform = transforms.Compose(\n",
    "    [transforms.ToTensor(), transforms.Normalize([0.5, 0.5, 0.5], [0.5, 0.5, 0.5])])\n",
    "test_dataset = datasets.CIFAR10(root='../xor_neuron_data/data',\n",
    "                                train=False,\n",
    "                                transform=transform,\n",
    "                                download=True)"
   ]
  },
  {
   "cell_type": "code",
   "execution_count": 6,
   "id": "fdc606fa",
   "metadata": {},
   "outputs": [],
   "source": [
    "test_loader = DataLoader(dataset=test_dataset,\n",
    "                                 batch_size=16,\n",
    "                                 shuffle=False)"
   ]
  },
  {
   "cell_type": "code",
   "execution_count": 7,
   "id": "6f5a7e50",
   "metadata": {},
   "outputs": [],
   "source": [
    "imgs, target = next(iter(test_loader))"
   ]
  },
  {
   "cell_type": "code",
   "execution_count": 8,
   "id": "884a4942",
   "metadata": {},
   "outputs": [],
   "source": [
    "# config_file = glob('../config/resnet/0207_resnet_quad_v2_rtx30/4.yaml')[0]\n",
    "# config = edict(yaml.load(open(config_file, 'r'), Loader=yaml.FullLoader))\n",
    "\n",
    "config_file = glob('../config/resnet/xor_resnet.yaml')[0]\n",
    "config = edict(yaml.load(open(config_file, 'r'), Loader=yaml.FullLoader))\n",
    "\n",
    "control_config_file = glob('../config/control_model/resnet20.yaml')[0]\n",
    "control_config = edict(yaml.load(open(control_config_file, 'r'), Loader=yaml.FullLoader))"
   ]
  },
  {
   "cell_type": "code",
   "execution_count": 9,
   "id": "99c62251",
   "metadata": {},
   "outputs": [],
   "source": [
    "config.model.num_blocks = [3,3,3]"
   ]
  },
  {
   "cell_type": "code",
   "execution_count": 10,
   "id": "cb85215e",
   "metadata": {},
   "outputs": [],
   "source": [
    "model = ResNet20_Xor(config)"
   ]
  },
  {
   "cell_type": "code",
   "execution_count": 11,
   "id": "048d9683",
   "metadata": {
    "scrolled": false
   },
   "outputs": [
    {
     "data": {
      "text/plain": [
       "ResNet_Xor(\n",
       "  (loss_func): CrossEntropyLoss()\n",
       "  (inner_net): Sequential(\n",
       "    (fc1): Linear(in_features=2, out_features=16, bias=True)\n",
       "    (relu1): ReLU()\n",
       "    (fc2): Linear(in_features=16, out_features=16, bias=True)\n",
       "    (relu2): ReLU()\n",
       "    (fc3): Linear(in_features=16, out_features=1, bias=True)\n",
       "  )\n",
       "  (conv1): Conv2d(3, 32, kernel_size=(3, 3), stride=(1, 1), padding=(1, 1), bias=False)\n",
       "  (bn1): BatchNorm2d(32, eps=1e-05, momentum=0.1, affine=True, track_running_stats=True)\n",
       "  (layer1): Sequential(\n",
       "    (0): BasicBlock_InnerNet(\n",
       "      (inner_net): Sequential(\n",
       "        (fc1): Linear(in_features=2, out_features=16, bias=True)\n",
       "        (relu1): ReLU()\n",
       "        (fc2): Linear(in_features=16, out_features=16, bias=True)\n",
       "        (relu2): ReLU()\n",
       "        (fc3): Linear(in_features=16, out_features=1, bias=True)\n",
       "      )\n",
       "      (conv1): Conv2d(16, 32, kernel_size=(3, 3), stride=(1, 1), padding=(1, 1), bias=False)\n",
       "      (bn1): BatchNorm2d(32, eps=1e-05, momentum=0.1, affine=True, track_running_stats=True)\n",
       "      (conv2): Conv2d(16, 32, kernel_size=(3, 3), stride=(1, 1), padding=(1, 1), bias=False)\n",
       "      (bn2): BatchNorm2d(32, eps=1e-05, momentum=0.1, affine=True, track_running_stats=True)\n",
       "      (conv3): Conv2d(16, 32, kernel_size=(3, 3), stride=(1, 1), padding=(1, 1), bias=False)\n",
       "      (bn3): BatchNorm2d(32, eps=1e-05, momentum=0.1, affine=True, track_running_stats=True)\n",
       "      (shortcut): Sequential()\n",
       "    )\n",
       "    (1): BasicBlock_InnerNet(\n",
       "      (inner_net): Sequential(\n",
       "        (fc1): Linear(in_features=2, out_features=16, bias=True)\n",
       "        (relu1): ReLU()\n",
       "        (fc2): Linear(in_features=16, out_features=16, bias=True)\n",
       "        (relu2): ReLU()\n",
       "        (fc3): Linear(in_features=16, out_features=1, bias=True)\n",
       "      )\n",
       "      (conv1): Conv2d(16, 32, kernel_size=(3, 3), stride=(1, 1), padding=(1, 1), bias=False)\n",
       "      (bn1): BatchNorm2d(32, eps=1e-05, momentum=0.1, affine=True, track_running_stats=True)\n",
       "      (conv2): Conv2d(16, 32, kernel_size=(3, 3), stride=(1, 1), padding=(1, 1), bias=False)\n",
       "      (bn2): BatchNorm2d(32, eps=1e-05, momentum=0.1, affine=True, track_running_stats=True)\n",
       "      (conv3): Conv2d(16, 32, kernel_size=(3, 3), stride=(1, 1), padding=(1, 1), bias=False)\n",
       "      (bn3): BatchNorm2d(32, eps=1e-05, momentum=0.1, affine=True, track_running_stats=True)\n",
       "      (shortcut): Sequential()\n",
       "    )\n",
       "    (2): BasicBlock_InnerNet(\n",
       "      (inner_net): Sequential(\n",
       "        (fc1): Linear(in_features=2, out_features=16, bias=True)\n",
       "        (relu1): ReLU()\n",
       "        (fc2): Linear(in_features=16, out_features=16, bias=True)\n",
       "        (relu2): ReLU()\n",
       "        (fc3): Linear(in_features=16, out_features=1, bias=True)\n",
       "      )\n",
       "      (conv1): Conv2d(16, 32, kernel_size=(3, 3), stride=(1, 1), padding=(1, 1), bias=False)\n",
       "      (bn1): BatchNorm2d(32, eps=1e-05, momentum=0.1, affine=True, track_running_stats=True)\n",
       "      (conv2): Conv2d(16, 32, kernel_size=(3, 3), stride=(1, 1), padding=(1, 1), bias=False)\n",
       "      (bn2): BatchNorm2d(32, eps=1e-05, momentum=0.1, affine=True, track_running_stats=True)\n",
       "      (conv3): Conv2d(16, 32, kernel_size=(3, 3), stride=(1, 1), padding=(1, 1), bias=False)\n",
       "      (bn3): BatchNorm2d(32, eps=1e-05, momentum=0.1, affine=True, track_running_stats=True)\n",
       "      (shortcut): Sequential()\n",
       "    )\n",
       "  )\n",
       "  (layer2): Sequential(\n",
       "    (0): BasicBlock_InnerNet(\n",
       "      (inner_net): Sequential(\n",
       "        (fc1): Linear(in_features=2, out_features=16, bias=True)\n",
       "        (relu1): ReLU()\n",
       "        (fc2): Linear(in_features=16, out_features=16, bias=True)\n",
       "        (relu2): ReLU()\n",
       "        (fc3): Linear(in_features=16, out_features=1, bias=True)\n",
       "      )\n",
       "      (conv1): Conv2d(16, 64, kernel_size=(3, 3), stride=(2, 2), padding=(1, 1), bias=False)\n",
       "      (bn1): BatchNorm2d(64, eps=1e-05, momentum=0.1, affine=True, track_running_stats=True)\n",
       "      (conv2): Conv2d(32, 64, kernel_size=(3, 3), stride=(1, 1), padding=(1, 1), bias=False)\n",
       "      (bn2): BatchNorm2d(64, eps=1e-05, momentum=0.1, affine=True, track_running_stats=True)\n",
       "      (conv3): Conv2d(32, 64, kernel_size=(3, 3), stride=(1, 1), padding=(1, 1), bias=False)\n",
       "      (bn3): BatchNorm2d(64, eps=1e-05, momentum=0.1, affine=True, track_running_stats=True)\n",
       "      (shortcut): LambdaLayer()\n",
       "    )\n",
       "    (1): BasicBlock_InnerNet(\n",
       "      (inner_net): Sequential(\n",
       "        (fc1): Linear(in_features=2, out_features=16, bias=True)\n",
       "        (relu1): ReLU()\n",
       "        (fc2): Linear(in_features=16, out_features=16, bias=True)\n",
       "        (relu2): ReLU()\n",
       "        (fc3): Linear(in_features=16, out_features=1, bias=True)\n",
       "      )\n",
       "      (conv1): Conv2d(32, 64, kernel_size=(3, 3), stride=(1, 1), padding=(1, 1), bias=False)\n",
       "      (bn1): BatchNorm2d(64, eps=1e-05, momentum=0.1, affine=True, track_running_stats=True)\n",
       "      (conv2): Conv2d(32, 64, kernel_size=(3, 3), stride=(1, 1), padding=(1, 1), bias=False)\n",
       "      (bn2): BatchNorm2d(64, eps=1e-05, momentum=0.1, affine=True, track_running_stats=True)\n",
       "      (conv3): Conv2d(32, 64, kernel_size=(3, 3), stride=(1, 1), padding=(1, 1), bias=False)\n",
       "      (bn3): BatchNorm2d(64, eps=1e-05, momentum=0.1, affine=True, track_running_stats=True)\n",
       "      (shortcut): Sequential()\n",
       "    )\n",
       "    (2): BasicBlock_InnerNet(\n",
       "      (inner_net): Sequential(\n",
       "        (fc1): Linear(in_features=2, out_features=16, bias=True)\n",
       "        (relu1): ReLU()\n",
       "        (fc2): Linear(in_features=16, out_features=16, bias=True)\n",
       "        (relu2): ReLU()\n",
       "        (fc3): Linear(in_features=16, out_features=1, bias=True)\n",
       "      )\n",
       "      (conv1): Conv2d(32, 64, kernel_size=(3, 3), stride=(1, 1), padding=(1, 1), bias=False)\n",
       "      (bn1): BatchNorm2d(64, eps=1e-05, momentum=0.1, affine=True, track_running_stats=True)\n",
       "      (conv2): Conv2d(32, 64, kernel_size=(3, 3), stride=(1, 1), padding=(1, 1), bias=False)\n",
       "      (bn2): BatchNorm2d(64, eps=1e-05, momentum=0.1, affine=True, track_running_stats=True)\n",
       "      (conv3): Conv2d(32, 64, kernel_size=(3, 3), stride=(1, 1), padding=(1, 1), bias=False)\n",
       "      (bn3): BatchNorm2d(64, eps=1e-05, momentum=0.1, affine=True, track_running_stats=True)\n",
       "      (shortcut): Sequential()\n",
       "    )\n",
       "  )\n",
       "  (layer3): Sequential(\n",
       "    (0): BasicBlock_InnerNet(\n",
       "      (inner_net): Sequential(\n",
       "        (fc1): Linear(in_features=2, out_features=16, bias=True)\n",
       "        (relu1): ReLU()\n",
       "        (fc2): Linear(in_features=16, out_features=16, bias=True)\n",
       "        (relu2): ReLU()\n",
       "        (fc3): Linear(in_features=16, out_features=1, bias=True)\n",
       "      )\n",
       "      (conv1): Conv2d(32, 128, kernel_size=(3, 3), stride=(2, 2), padding=(1, 1), bias=False)\n",
       "      (bn1): BatchNorm2d(128, eps=1e-05, momentum=0.1, affine=True, track_running_stats=True)\n",
       "      (conv2): Conv2d(64, 128, kernel_size=(3, 3), stride=(1, 1), padding=(1, 1), bias=False)\n",
       "      (bn2): BatchNorm2d(128, eps=1e-05, momentum=0.1, affine=True, track_running_stats=True)\n",
       "      (conv3): Conv2d(64, 128, kernel_size=(3, 3), stride=(1, 1), padding=(1, 1), bias=False)\n",
       "      (bn3): BatchNorm2d(128, eps=1e-05, momentum=0.1, affine=True, track_running_stats=True)\n",
       "      (shortcut): LambdaLayer()\n",
       "    )\n",
       "    (1): BasicBlock_InnerNet(\n",
       "      (inner_net): Sequential(\n",
       "        (fc1): Linear(in_features=2, out_features=16, bias=True)\n",
       "        (relu1): ReLU()\n",
       "        (fc2): Linear(in_features=16, out_features=16, bias=True)\n",
       "        (relu2): ReLU()\n",
       "        (fc3): Linear(in_features=16, out_features=1, bias=True)\n",
       "      )\n",
       "      (conv1): Conv2d(64, 128, kernel_size=(3, 3), stride=(1, 1), padding=(1, 1), bias=False)\n",
       "      (bn1): BatchNorm2d(128, eps=1e-05, momentum=0.1, affine=True, track_running_stats=True)\n",
       "      (conv2): Conv2d(64, 128, kernel_size=(3, 3), stride=(1, 1), padding=(1, 1), bias=False)\n",
       "      (bn2): BatchNorm2d(128, eps=1e-05, momentum=0.1, affine=True, track_running_stats=True)\n",
       "      (conv3): Conv2d(64, 128, kernel_size=(3, 3), stride=(1, 1), padding=(1, 1), bias=False)\n",
       "      (bn3): BatchNorm2d(128, eps=1e-05, momentum=0.1, affine=True, track_running_stats=True)\n",
       "      (shortcut): Sequential()\n",
       "    )\n",
       "    (2): BasicBlock_InnerNet(\n",
       "      (inner_net): Sequential(\n",
       "        (fc1): Linear(in_features=2, out_features=16, bias=True)\n",
       "        (relu1): ReLU()\n",
       "        (fc2): Linear(in_features=16, out_features=16, bias=True)\n",
       "        (relu2): ReLU()\n",
       "        (fc3): Linear(in_features=16, out_features=1, bias=True)\n",
       "      )\n",
       "      (conv1): Conv2d(64, 128, kernel_size=(3, 3), stride=(1, 1), padding=(1, 1), bias=False)\n",
       "      (bn1): BatchNorm2d(128, eps=1e-05, momentum=0.1, affine=True, track_running_stats=True)\n",
       "      (conv2): Conv2d(64, 128, kernel_size=(3, 3), stride=(1, 1), padding=(1, 1), bias=False)\n",
       "      (bn2): BatchNorm2d(128, eps=1e-05, momentum=0.1, affine=True, track_running_stats=True)\n",
       "      (conv3): Conv2d(64, 128, kernel_size=(3, 3), stride=(1, 1), padding=(1, 1), bias=False)\n",
       "      (bn3): BatchNorm2d(128, eps=1e-05, momentum=0.1, affine=True, track_running_stats=True)\n",
       "      (shortcut): Sequential()\n",
       "    )\n",
       "  )\n",
       "  (linear): Linear(in_features=64, out_features=10, bias=True)\n",
       ")"
      ]
     },
     "execution_count": 11,
     "metadata": {},
     "output_type": "execute_result"
    }
   ],
   "source": [
    "model"
   ]
  },
  {
   "cell_type": "code",
   "execution_count": 12,
   "id": "2db2ad15",
   "metadata": {
    "scrolled": false
   },
   "outputs": [],
   "source": [
    "out, loss, _ = model(imgs, target)"
   ]
  },
  {
   "cell_type": "code",
   "execution_count": 13,
   "id": "4b8dd8f3",
   "metadata": {},
   "outputs": [
    {
     "data": {
      "text/plain": [
       "tensor([[-0.0926, -0.0960,  0.0124, -0.0494, -0.0905, -0.1491,  0.0513,  0.0211,\n",
       "          0.0561,  0.0709],\n",
       "        [-0.0908, -0.0955,  0.0129, -0.0494, -0.0905, -0.1488,  0.0518,  0.0212,\n",
       "          0.0581,  0.0704],\n",
       "        [-0.0914, -0.0962,  0.0115, -0.0491, -0.0907, -0.1475,  0.0518,  0.0220,\n",
       "          0.0585,  0.0710],\n",
       "        [-0.0921, -0.0964,  0.0113, -0.0483, -0.0886, -0.1485,  0.0524,  0.0211,\n",
       "          0.0579,  0.0715],\n",
       "        [-0.0923, -0.0953,  0.0124, -0.0489, -0.0908, -0.1507,  0.0512,  0.0217,\n",
       "          0.0572,  0.0709],\n",
       "        [-0.0923, -0.0956,  0.0128, -0.0494, -0.0904, -0.1484,  0.0522,  0.0200,\n",
       "          0.0573,  0.0712],\n",
       "        [-0.0924, -0.0945,  0.0121, -0.0487, -0.0907, -0.1483,  0.0518,  0.0209,\n",
       "          0.0575,  0.0713],\n",
       "        [-0.0923, -0.0960,  0.0115, -0.0496, -0.0910, -0.1494,  0.0517,  0.0213,\n",
       "          0.0580,  0.0713],\n",
       "        [-0.0932, -0.0958,  0.0121, -0.0485, -0.0895, -0.1486,  0.0517,  0.0223,\n",
       "          0.0568,  0.0713],\n",
       "        [-0.0927, -0.0961,  0.0124, -0.0500, -0.0904, -0.1474,  0.0522,  0.0223,\n",
       "          0.0593,  0.0702],\n",
       "        [-0.0937, -0.0950,  0.0128, -0.0487, -0.0905, -0.1492,  0.0510,  0.0230,\n",
       "          0.0586,  0.0709],\n",
       "        [-0.0920, -0.0943,  0.0117, -0.0486, -0.0898, -0.1475,  0.0522,  0.0219,\n",
       "          0.0580,  0.0718],\n",
       "        [-0.0928, -0.0954,  0.0119, -0.0480, -0.0904, -0.1481,  0.0516,  0.0212,\n",
       "          0.0583,  0.0707],\n",
       "        [-0.0915, -0.0955,  0.0113, -0.0495, -0.0897, -0.1479,  0.0513,  0.0211,\n",
       "          0.0583,  0.0720],\n",
       "        [-0.0923, -0.0955,  0.0119, -0.0497, -0.0898, -0.1481,  0.0519,  0.0210,\n",
       "          0.0579,  0.0714],\n",
       "        [-0.0929, -0.0957,  0.0126, -0.0484, -0.0896, -0.1490,  0.0524,  0.0211,\n",
       "          0.0573,  0.0701]], grad_fn=<AddmmBackward>)"
      ]
     },
     "execution_count": 13,
     "metadata": {},
     "output_type": "execute_result"
    }
   ],
   "source": [
    "out"
   ]
  },
  {
   "cell_type": "code",
   "execution_count": 14,
   "id": "e540793e",
   "metadata": {},
   "outputs": [
    {
     "data": {
      "text/plain": [
       "tensor(2.2873, grad_fn=<NllLossBackward>)"
      ]
     },
     "execution_count": 14,
     "metadata": {},
     "output_type": "execute_result"
    }
   ],
   "source": [
    "loss"
   ]
  },
  {
   "cell_type": "code",
   "execution_count": 15,
   "id": "a0bef015",
   "metadata": {},
   "outputs": [],
   "source": [
    "origin_resnet = resnet20(control_config)"
   ]
  },
  {
   "cell_type": "code",
   "execution_count": 16,
   "id": "9d4effd5",
   "metadata": {
    "scrolled": false
   },
   "outputs": [
    {
     "data": {
      "text/plain": [
       "ResNet(\n",
       "  (conv1): Conv2d(3, 16, kernel_size=(3, 3), stride=(1, 1), padding=(1, 1), bias=False)\n",
       "  (bn1): BatchNorm2d(16, eps=1e-05, momentum=0.1, affine=True, track_running_stats=True)\n",
       "  (layer1): Sequential(\n",
       "    (0): BasicBlock(\n",
       "      (conv1): Conv2d(16, 16, kernel_size=(3, 3), stride=(1, 1), padding=(1, 1), bias=False)\n",
       "      (bn1): BatchNorm2d(16, eps=1e-05, momentum=0.1, affine=True, track_running_stats=True)\n",
       "      (conv2): Conv2d(16, 16, kernel_size=(3, 3), stride=(1, 1), padding=(1, 1), bias=False)\n",
       "      (bn2): BatchNorm2d(16, eps=1e-05, momentum=0.1, affine=True, track_running_stats=True)\n",
       "      (activation_fnc): ReLU()\n",
       "      (shortcut): Sequential()\n",
       "    )\n",
       "    (1): BasicBlock(\n",
       "      (conv1): Conv2d(16, 16, kernel_size=(3, 3), stride=(1, 1), padding=(1, 1), bias=False)\n",
       "      (bn1): BatchNorm2d(16, eps=1e-05, momentum=0.1, affine=True, track_running_stats=True)\n",
       "      (conv2): Conv2d(16, 16, kernel_size=(3, 3), stride=(1, 1), padding=(1, 1), bias=False)\n",
       "      (bn2): BatchNorm2d(16, eps=1e-05, momentum=0.1, affine=True, track_running_stats=True)\n",
       "      (activation_fnc): ReLU()\n",
       "      (shortcut): Sequential()\n",
       "    )\n",
       "    (2): BasicBlock(\n",
       "      (conv1): Conv2d(16, 16, kernel_size=(3, 3), stride=(1, 1), padding=(1, 1), bias=False)\n",
       "      (bn1): BatchNorm2d(16, eps=1e-05, momentum=0.1, affine=True, track_running_stats=True)\n",
       "      (conv2): Conv2d(16, 16, kernel_size=(3, 3), stride=(1, 1), padding=(1, 1), bias=False)\n",
       "      (bn2): BatchNorm2d(16, eps=1e-05, momentum=0.1, affine=True, track_running_stats=True)\n",
       "      (activation_fnc): ReLU()\n",
       "      (shortcut): Sequential()\n",
       "    )\n",
       "  )\n",
       "  (layer2): Sequential(\n",
       "    (0): BasicBlock(\n",
       "      (conv1): Conv2d(16, 32, kernel_size=(3, 3), stride=(2, 2), padding=(1, 1), bias=False)\n",
       "      (bn1): BatchNorm2d(32, eps=1e-05, momentum=0.1, affine=True, track_running_stats=True)\n",
       "      (conv2): Conv2d(32, 32, kernel_size=(3, 3), stride=(1, 1), padding=(1, 1), bias=False)\n",
       "      (bn2): BatchNorm2d(32, eps=1e-05, momentum=0.1, affine=True, track_running_stats=True)\n",
       "      (activation_fnc): ReLU()\n",
       "      (shortcut): LambdaLayer()\n",
       "    )\n",
       "    (1): BasicBlock(\n",
       "      (conv1): Conv2d(32, 32, kernel_size=(3, 3), stride=(1, 1), padding=(1, 1), bias=False)\n",
       "      (bn1): BatchNorm2d(32, eps=1e-05, momentum=0.1, affine=True, track_running_stats=True)\n",
       "      (conv2): Conv2d(32, 32, kernel_size=(3, 3), stride=(1, 1), padding=(1, 1), bias=False)\n",
       "      (bn2): BatchNorm2d(32, eps=1e-05, momentum=0.1, affine=True, track_running_stats=True)\n",
       "      (activation_fnc): ReLU()\n",
       "      (shortcut): Sequential()\n",
       "    )\n",
       "    (2): BasicBlock(\n",
       "      (conv1): Conv2d(32, 32, kernel_size=(3, 3), stride=(1, 1), padding=(1, 1), bias=False)\n",
       "      (bn1): BatchNorm2d(32, eps=1e-05, momentum=0.1, affine=True, track_running_stats=True)\n",
       "      (conv2): Conv2d(32, 32, kernel_size=(3, 3), stride=(1, 1), padding=(1, 1), bias=False)\n",
       "      (bn2): BatchNorm2d(32, eps=1e-05, momentum=0.1, affine=True, track_running_stats=True)\n",
       "      (activation_fnc): ReLU()\n",
       "      (shortcut): Sequential()\n",
       "    )\n",
       "  )\n",
       "  (layer3): Sequential(\n",
       "    (0): BasicBlock(\n",
       "      (conv1): Conv2d(32, 64, kernel_size=(3, 3), stride=(2, 2), padding=(1, 1), bias=False)\n",
       "      (bn1): BatchNorm2d(64, eps=1e-05, momentum=0.1, affine=True, track_running_stats=True)\n",
       "      (conv2): Conv2d(64, 64, kernel_size=(3, 3), stride=(1, 1), padding=(1, 1), bias=False)\n",
       "      (bn2): BatchNorm2d(64, eps=1e-05, momentum=0.1, affine=True, track_running_stats=True)\n",
       "      (activation_fnc): ReLU()\n",
       "      (shortcut): LambdaLayer()\n",
       "    )\n",
       "    (1): BasicBlock(\n",
       "      (conv1): Conv2d(64, 64, kernel_size=(3, 3), stride=(1, 1), padding=(1, 1), bias=False)\n",
       "      (bn1): BatchNorm2d(64, eps=1e-05, momentum=0.1, affine=True, track_running_stats=True)\n",
       "      (conv2): Conv2d(64, 64, kernel_size=(3, 3), stride=(1, 1), padding=(1, 1), bias=False)\n",
       "      (bn2): BatchNorm2d(64, eps=1e-05, momentum=0.1, affine=True, track_running_stats=True)\n",
       "      (activation_fnc): ReLU()\n",
       "      (shortcut): Sequential()\n",
       "    )\n",
       "    (2): BasicBlock(\n",
       "      (conv1): Conv2d(64, 64, kernel_size=(3, 3), stride=(1, 1), padding=(1, 1), bias=False)\n",
       "      (bn1): BatchNorm2d(64, eps=1e-05, momentum=0.1, affine=True, track_running_stats=True)\n",
       "      (conv2): Conv2d(64, 64, kernel_size=(3, 3), stride=(1, 1), padding=(1, 1), bias=False)\n",
       "      (bn2): BatchNorm2d(64, eps=1e-05, momentum=0.1, affine=True, track_running_stats=True)\n",
       "      (activation_fnc): ReLU()\n",
       "      (shortcut): Sequential()\n",
       "    )\n",
       "  )\n",
       "  (linear): Linear(in_features=64, out_features=10, bias=True)\n",
       "  (loss_func): CrossEntropyLoss()\n",
       "  (activation_fnc): ReLU()\n",
       ")"
      ]
     },
     "execution_count": 16,
     "metadata": {},
     "output_type": "execute_result"
    }
   ],
   "source": [
    "origin_resnet"
   ]
  },
  {
   "cell_type": "code",
   "execution_count": null,
   "id": "0672bdfd",
   "metadata": {},
   "outputs": [],
   "source": []
  }
 ],
 "metadata": {
  "kernelspec": {
   "display_name": "Python 3 (ipykernel)",
   "language": "python",
   "name": "python3"
  },
  "language_info": {
   "codemirror_mode": {
    "name": "ipython",
    "version": 3
   },
   "file_extension": ".py",
   "mimetype": "text/x-python",
   "name": "python",
   "nbconvert_exporter": "python",
   "pygments_lexer": "ipython3",
   "version": "3.8.12"
  }
 },
 "nbformat": 4,
 "nbformat_minor": 5
}
