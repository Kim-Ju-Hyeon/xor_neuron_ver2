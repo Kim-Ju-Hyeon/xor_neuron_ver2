{
 "cells": [
  {
   "cell_type": "code",
   "execution_count": 1,
   "id": "c5ec6cee",
   "metadata": {},
   "outputs": [],
   "source": [
    "import sys\n",
    "\n",
    "sys.path.append('../')"
   ]
  },
  {
   "cell_type": "code",
   "execution_count": 2,
   "id": "6e7e213e",
   "metadata": {},
   "outputs": [],
   "source": [
    "import pickle\n",
    "from glob import glob\n",
    "import os\n",
    "import yaml\n",
    "from easydict import EasyDict as edict\n",
    "import numpy as np\n",
    "import torch"
   ]
  },
  {
   "cell_type": "code",
   "execution_count": 3,
   "id": "74e2e466",
   "metadata": {},
   "outputs": [],
   "source": [
    "from model.resnet_xor import *\n",
    "from model.resnet import *"
   ]
  },
  {
   "cell_type": "code",
   "execution_count": 4,
   "id": "9860646c",
   "metadata": {},
   "outputs": [],
   "source": [
    "from torchvision import transforms, datasets\n",
    "from torch.utils.data import DataLoader, random_split, ConcatDataset"
   ]
  },
  {
   "cell_type": "code",
   "execution_count": 5,
   "id": "a33f2915",
   "metadata": {},
   "outputs": [
    {
     "name": "stdout",
     "output_type": "stream",
     "text": [
      "Files already downloaded and verified\n"
     ]
    }
   ],
   "source": [
    "transform = transforms.Compose(\n",
    "    [transforms.ToTensor(), transforms.Normalize([0.5, 0.5, 0.5], [0.5, 0.5, 0.5])])\n",
    "test_dataset = datasets.CIFAR10(root='../xor_neuron_data/data',\n",
    "                                train=False,\n",
    "                                transform=transform,\n",
    "                                download=True)"
   ]
  },
  {
   "cell_type": "code",
   "execution_count": 6,
   "id": "fdc606fa",
   "metadata": {},
   "outputs": [],
   "source": [
    "test_loader = DataLoader(dataset=test_dataset,\n",
    "                                 batch_size=16,\n",
    "                                 shuffle=False)"
   ]
  },
  {
   "cell_type": "code",
   "execution_count": 7,
   "id": "6f5a7e50",
   "metadata": {},
   "outputs": [],
   "source": [
    "imgs, target = next(iter(test_loader))"
   ]
  },
  {
   "cell_type": "code",
   "execution_count": 8,
   "id": "884a4942",
   "metadata": {},
   "outputs": [],
   "source": [
    "config_file = glob('../config/resnet/0207_resnet_quad_v2_rtx30/4.yaml')[0]\n",
    "config = edict(yaml.load(open(config_file, 'r'), Loader=yaml.FullLoader))\n",
    "\n",
    "control_config_file = glob('../config/control_model/resnet20.yaml')[0]\n",
    "control_config = edict(yaml.load(open(control_config_file, 'r'), Loader=yaml.FullLoader))"
   ]
  },
  {
   "cell_type": "code",
   "execution_count": 9,
   "id": "cb85215e",
   "metadata": {},
   "outputs": [],
   "source": [
    "model = ResNet20_Xor(config)"
   ]
  },
  {
   "cell_type": "code",
   "execution_count": 10,
   "id": "048d9683",
   "metadata": {
    "scrolled": false
   },
   "outputs": [
    {
     "data": {
      "text/plain": [
       "ResNet_Xor(\n",
       "  (loss_func): CrossEntropyLoss()\n",
       "  (inner_net): QuadraticInnerNet(\n",
       "    (A): Linear(in_features=2, out_features=2, bias=False)\n",
       "    (b): Linear(in_features=2, out_features=1, bias=True)\n",
       "  )\n",
       "  (conv1): Conv2d(3, 32, kernel_size=(3, 3), stride=(1, 1), padding=(1, 1), bias=False)\n",
       "  (bn1): BatchNorm2d(32, eps=1e-05, momentum=0.1, affine=True, track_running_stats=True)\n",
       "  (layer1): Sequential(\n",
       "    (0): BasicBlock_InnerNet(\n",
       "      (inner_net): QuadraticInnerNet(\n",
       "        (A): Linear(in_features=2, out_features=2, bias=False)\n",
       "        (b): Linear(in_features=2, out_features=1, bias=True)\n",
       "      )\n",
       "      (conv1): Conv2d(16, 32, kernel_size=(3, 3), stride=(1, 1), padding=(1, 1), bias=False)\n",
       "      (bn1): BatchNorm2d(32, eps=1e-05, momentum=0.1, affine=True, track_running_stats=True)\n",
       "      (conv2): Conv2d(16, 32, kernel_size=(3, 3), stride=(1, 1), padding=(1, 1), bias=False)\n",
       "      (bn2): BatchNorm2d(32, eps=1e-05, momentum=0.1, affine=True, track_running_stats=True)\n",
       "      (shortcut): Sequential()\n",
       "    )\n",
       "    (1): BasicBlock_InnerNet(\n",
       "      (inner_net): QuadraticInnerNet(\n",
       "        (A): Linear(in_features=2, out_features=2, bias=False)\n",
       "        (b): Linear(in_features=2, out_features=1, bias=True)\n",
       "      )\n",
       "      (conv1): Conv2d(16, 32, kernel_size=(3, 3), stride=(1, 1), padding=(1, 1), bias=False)\n",
       "      (bn1): BatchNorm2d(32, eps=1e-05, momentum=0.1, affine=True, track_running_stats=True)\n",
       "      (conv2): Conv2d(16, 32, kernel_size=(3, 3), stride=(1, 1), padding=(1, 1), bias=False)\n",
       "      (bn2): BatchNorm2d(32, eps=1e-05, momentum=0.1, affine=True, track_running_stats=True)\n",
       "      (shortcut): Sequential()\n",
       "    )\n",
       "    (2): BasicBlock_InnerNet(\n",
       "      (inner_net): QuadraticInnerNet(\n",
       "        (A): Linear(in_features=2, out_features=2, bias=False)\n",
       "        (b): Linear(in_features=2, out_features=1, bias=True)\n",
       "      )\n",
       "      (conv1): Conv2d(16, 32, kernel_size=(3, 3), stride=(1, 1), padding=(1, 1), bias=False)\n",
       "      (bn1): BatchNorm2d(32, eps=1e-05, momentum=0.1, affine=True, track_running_stats=True)\n",
       "      (conv2): Conv2d(16, 32, kernel_size=(3, 3), stride=(1, 1), padding=(1, 1), bias=False)\n",
       "      (bn2): BatchNorm2d(32, eps=1e-05, momentum=0.1, affine=True, track_running_stats=True)\n",
       "      (shortcut): Sequential()\n",
       "    )\n",
       "  )\n",
       "  (layer2): Sequential(\n",
       "    (0): BasicBlock_InnerNet(\n",
       "      (inner_net): QuadraticInnerNet(\n",
       "        (A): Linear(in_features=2, out_features=2, bias=False)\n",
       "        (b): Linear(in_features=2, out_features=1, bias=True)\n",
       "      )\n",
       "      (conv1): Conv2d(16, 64, kernel_size=(3, 3), stride=(2, 2), padding=(1, 1), bias=False)\n",
       "      (bn1): BatchNorm2d(64, eps=1e-05, momentum=0.1, affine=True, track_running_stats=True)\n",
       "      (conv2): Conv2d(32, 64, kernel_size=(3, 3), stride=(1, 1), padding=(1, 1), bias=False)\n",
       "      (bn2): BatchNorm2d(64, eps=1e-05, momentum=0.1, affine=True, track_running_stats=True)\n",
       "      (shortcut): LambdaLayer()\n",
       "    )\n",
       "    (1): BasicBlock_InnerNet(\n",
       "      (inner_net): QuadraticInnerNet(\n",
       "        (A): Linear(in_features=2, out_features=2, bias=False)\n",
       "        (b): Linear(in_features=2, out_features=1, bias=True)\n",
       "      )\n",
       "      (conv1): Conv2d(32, 64, kernel_size=(3, 3), stride=(1, 1), padding=(1, 1), bias=False)\n",
       "      (bn1): BatchNorm2d(64, eps=1e-05, momentum=0.1, affine=True, track_running_stats=True)\n",
       "      (conv2): Conv2d(32, 64, kernel_size=(3, 3), stride=(1, 1), padding=(1, 1), bias=False)\n",
       "      (bn2): BatchNorm2d(64, eps=1e-05, momentum=0.1, affine=True, track_running_stats=True)\n",
       "      (shortcut): Sequential()\n",
       "    )\n",
       "    (2): BasicBlock_InnerNet(\n",
       "      (inner_net): QuadraticInnerNet(\n",
       "        (A): Linear(in_features=2, out_features=2, bias=False)\n",
       "        (b): Linear(in_features=2, out_features=1, bias=True)\n",
       "      )\n",
       "      (conv1): Conv2d(32, 64, kernel_size=(3, 3), stride=(1, 1), padding=(1, 1), bias=False)\n",
       "      (bn1): BatchNorm2d(64, eps=1e-05, momentum=0.1, affine=True, track_running_stats=True)\n",
       "      (conv2): Conv2d(32, 64, kernel_size=(3, 3), stride=(1, 1), padding=(1, 1), bias=False)\n",
       "      (bn2): BatchNorm2d(64, eps=1e-05, momentum=0.1, affine=True, track_running_stats=True)\n",
       "      (shortcut): Sequential()\n",
       "    )\n",
       "  )\n",
       "  (layer3): Sequential(\n",
       "    (0): BasicBlock_InnerNet(\n",
       "      (inner_net): QuadraticInnerNet(\n",
       "        (A): Linear(in_features=2, out_features=2, bias=False)\n",
       "        (b): Linear(in_features=2, out_features=1, bias=True)\n",
       "      )\n",
       "      (conv1): Conv2d(32, 128, kernel_size=(3, 3), stride=(2, 2), padding=(1, 1), bias=False)\n",
       "      (bn1): BatchNorm2d(128, eps=1e-05, momentum=0.1, affine=True, track_running_stats=True)\n",
       "      (conv2): Conv2d(64, 128, kernel_size=(3, 3), stride=(1, 1), padding=(1, 1), bias=False)\n",
       "      (bn2): BatchNorm2d(128, eps=1e-05, momentum=0.1, affine=True, track_running_stats=True)\n",
       "      (shortcut): LambdaLayer()\n",
       "    )\n",
       "    (1): BasicBlock_InnerNet(\n",
       "      (inner_net): QuadraticInnerNet(\n",
       "        (A): Linear(in_features=2, out_features=2, bias=False)\n",
       "        (b): Linear(in_features=2, out_features=1, bias=True)\n",
       "      )\n",
       "      (conv1): Conv2d(64, 128, kernel_size=(3, 3), stride=(1, 1), padding=(1, 1), bias=False)\n",
       "      (bn1): BatchNorm2d(128, eps=1e-05, momentum=0.1, affine=True, track_running_stats=True)\n",
       "      (conv2): Conv2d(64, 128, kernel_size=(3, 3), stride=(1, 1), padding=(1, 1), bias=False)\n",
       "      (bn2): BatchNorm2d(128, eps=1e-05, momentum=0.1, affine=True, track_running_stats=True)\n",
       "      (shortcut): Sequential()\n",
       "    )\n",
       "    (2): BasicBlock_InnerNet(\n",
       "      (inner_net): QuadraticInnerNet(\n",
       "        (A): Linear(in_features=2, out_features=2, bias=False)\n",
       "        (b): Linear(in_features=2, out_features=1, bias=True)\n",
       "      )\n",
       "      (conv1): Conv2d(64, 128, kernel_size=(3, 3), stride=(1, 1), padding=(1, 1), bias=False)\n",
       "      (bn1): BatchNorm2d(128, eps=1e-05, momentum=0.1, affine=True, track_running_stats=True)\n",
       "      (conv2): Conv2d(64, 128, kernel_size=(3, 3), stride=(1, 1), padding=(1, 1), bias=False)\n",
       "      (bn2): BatchNorm2d(128, eps=1e-05, momentum=0.1, affine=True, track_running_stats=True)\n",
       "      (shortcut): Sequential()\n",
       "    )\n",
       "  )\n",
       "  (linear): Linear(in_features=64, out_features=10, bias=True)\n",
       ")"
      ]
     },
     "execution_count": 10,
     "metadata": {},
     "output_type": "execute_result"
    }
   ],
   "source": [
    "model"
   ]
  },
  {
   "cell_type": "code",
   "execution_count": 11,
   "id": "2db2ad15",
   "metadata": {
    "scrolled": true
   },
   "outputs": [],
   "source": [
    "out, loss, _ = model(imgs, target)"
   ]
  },
  {
   "cell_type": "code",
   "execution_count": 12,
   "id": "4b8dd8f3",
   "metadata": {},
   "outputs": [
    {
     "data": {
      "text/plain": [
       "tensor([[ 1.4446e-01, -4.6949e-01,  6.4128e-01, -8.9683e-01, -1.6483e-01,\n",
       "          2.6049e-01,  1.8021e-02,  3.8705e-01, -1.9203e-01,  2.6809e-01],\n",
       "        [ 2.4389e-02, -7.7869e-01,  6.8173e-01, -7.7010e-01, -1.5189e-01,\n",
       "         -1.1013e-01, -7.1625e-02,  7.2703e-01, -4.4885e-01,  3.2069e-01],\n",
       "        [ 5.6768e-02, -6.3377e-01,  5.8100e-01, -8.1527e-01, -1.0849e-01,\n",
       "          1.0627e-01, -2.1905e-02,  5.7978e-01, -3.5459e-01,  2.6987e-01],\n",
       "        [ 1.2265e-01, -6.4515e-01,  7.7054e-01, -9.5554e-01, -2.0009e-01,\n",
       "          5.9910e-02, -3.8645e-02,  5.9949e-01, -3.1011e-01,  2.5074e-01],\n",
       "        [ 1.4394e-01, -6.0458e-01,  4.4935e-01, -8.6440e-01, -1.9525e-01,\n",
       "          1.6387e-01,  3.6469e-02,  4.5809e-01, -1.4029e-01,  2.3125e-01],\n",
       "        [ 8.4479e-02, -6.0649e-01,  6.8864e-01, -9.1188e-01, -2.3811e-01,\n",
       "          2.2694e-01,  3.8692e-02,  4.7409e-01, -1.8935e-01,  3.2752e-01],\n",
       "        [-3.4333e-02, -8.0641e-01,  4.1250e-01, -6.9732e-01, -2.5704e-01,\n",
       "          1.3402e-01,  3.6697e-02,  3.4609e-01, -3.2630e-01,  3.1969e-01],\n",
       "        [ 9.4546e-02, -6.3048e-01,  6.6582e-01, -9.1705e-01, -2.5763e-01,\n",
       "          1.8500e-01,  4.6139e-02,  5.3408e-01, -1.8503e-01,  3.0611e-01],\n",
       "        [ 7.7267e-02, -7.2068e-01,  4.5960e-01, -7.9110e-01, -1.6625e-01,\n",
       "          1.9574e-01,  9.4218e-02,  4.3875e-01, -2.0181e-01,  1.8784e-01],\n",
       "        [-1.2421e+01,  2.8728e+01, -2.2289e+01,  3.9064e+01,  9.6456e+00,\n",
       "         -1.2877e+01,  5.4072e+00, -2.3428e+01,  2.2733e+00, -7.2824e+00],\n",
       "        [ 8.7315e-02, -5.4329e-01,  7.1094e-01, -9.3014e-01, -2.0535e-01,\n",
       "          1.8707e-01, -2.0635e-02,  4.8660e-01, -2.2319e-01,  2.9339e-01],\n",
       "        [ 1.1368e-01, -9.4098e-01, -3.6744e-02, -4.3755e-01,  3.1733e-01,\n",
       "          8.4452e-02,  6.7009e-02,  5.6985e-01, -4.7314e-01,  1.8746e-02],\n",
       "        [ 6.5224e-02, -5.8028e-01,  6.5856e-01, -8.8971e-01, -2.4897e-01,\n",
       "          1.0739e-01,  1.1839e-02,  5.6125e-01, -1.8734e-01,  3.3462e-01],\n",
       "        [-3.7852e-01, -9.9719e-01, -1.2891e+00, -5.5516e-02,  3.8154e-01,\n",
       "          1.2276e-01,  3.7422e-01,  2.9426e-01,  8.8132e-02, -3.6435e-01],\n",
       "        [ 1.3666e-01, -6.4448e-01,  3.8415e-01, -9.2552e-01, -1.8762e-02,\n",
       "          1.2952e-01,  8.6207e-02,  4.1004e-01, -2.3176e-01,  1.7474e-01],\n",
       "        [ 5.6561e-02, -6.3693e-01,  4.9768e-01, -8.2145e-01, -1.1956e-01,\n",
       "          1.8929e-01,  6.1656e-02,  5.0247e-01, -2.8003e-01,  2.4133e-01]],\n",
       "       grad_fn=<AddmmBackward>)"
      ]
     },
     "execution_count": 12,
     "metadata": {},
     "output_type": "execute_result"
    }
   ],
   "source": [
    "out"
   ]
  },
  {
   "cell_type": "code",
   "execution_count": 13,
   "id": "e540793e",
   "metadata": {},
   "outputs": [
    {
     "data": {
      "text/plain": [
       "tensor(3.0155, grad_fn=<NllLossBackward>)"
      ]
     },
     "execution_count": 13,
     "metadata": {},
     "output_type": "execute_result"
    }
   ],
   "source": [
    "loss"
   ]
  },
  {
   "cell_type": "code",
   "execution_count": 14,
   "id": "a0bef015",
   "metadata": {},
   "outputs": [],
   "source": [
    "origin_resnet = resnet20(control_config)"
   ]
  },
  {
   "cell_type": "code",
   "execution_count": 15,
   "id": "9d4effd5",
   "metadata": {
    "scrolled": true
   },
   "outputs": [
    {
     "data": {
      "text/plain": [
       "ResNet(\n",
       "  (conv1): Conv2d(3, 16, kernel_size=(3, 3), stride=(1, 1), padding=(1, 1), bias=False)\n",
       "  (bn1): BatchNorm2d(16, eps=1e-05, momentum=0.1, affine=True, track_running_stats=True)\n",
       "  (layer1): Sequential(\n",
       "    (0): BasicBlock(\n",
       "      (conv1): Conv2d(16, 16, kernel_size=(3, 3), stride=(1, 1), padding=(1, 1), bias=False)\n",
       "      (bn1): BatchNorm2d(16, eps=1e-05, momentum=0.1, affine=True, track_running_stats=True)\n",
       "      (conv2): Conv2d(16, 16, kernel_size=(3, 3), stride=(1, 1), padding=(1, 1), bias=False)\n",
       "      (bn2): BatchNorm2d(16, eps=1e-05, momentum=0.1, affine=True, track_running_stats=True)\n",
       "      (activation_fnc): ReLU()\n",
       "      (shortcut): Sequential()\n",
       "    )\n",
       "    (1): BasicBlock(\n",
       "      (conv1): Conv2d(16, 16, kernel_size=(3, 3), stride=(1, 1), padding=(1, 1), bias=False)\n",
       "      (bn1): BatchNorm2d(16, eps=1e-05, momentum=0.1, affine=True, track_running_stats=True)\n",
       "      (conv2): Conv2d(16, 16, kernel_size=(3, 3), stride=(1, 1), padding=(1, 1), bias=False)\n",
       "      (bn2): BatchNorm2d(16, eps=1e-05, momentum=0.1, affine=True, track_running_stats=True)\n",
       "      (activation_fnc): ReLU()\n",
       "      (shortcut): Sequential()\n",
       "    )\n",
       "    (2): BasicBlock(\n",
       "      (conv1): Conv2d(16, 16, kernel_size=(3, 3), stride=(1, 1), padding=(1, 1), bias=False)\n",
       "      (bn1): BatchNorm2d(16, eps=1e-05, momentum=0.1, affine=True, track_running_stats=True)\n",
       "      (conv2): Conv2d(16, 16, kernel_size=(3, 3), stride=(1, 1), padding=(1, 1), bias=False)\n",
       "      (bn2): BatchNorm2d(16, eps=1e-05, momentum=0.1, affine=True, track_running_stats=True)\n",
       "      (activation_fnc): ReLU()\n",
       "      (shortcut): Sequential()\n",
       "    )\n",
       "  )\n",
       "  (layer2): Sequential(\n",
       "    (0): BasicBlock(\n",
       "      (conv1): Conv2d(16, 32, kernel_size=(3, 3), stride=(2, 2), padding=(1, 1), bias=False)\n",
       "      (bn1): BatchNorm2d(32, eps=1e-05, momentum=0.1, affine=True, track_running_stats=True)\n",
       "      (conv2): Conv2d(32, 32, kernel_size=(3, 3), stride=(1, 1), padding=(1, 1), bias=False)\n",
       "      (bn2): BatchNorm2d(32, eps=1e-05, momentum=0.1, affine=True, track_running_stats=True)\n",
       "      (activation_fnc): ReLU()\n",
       "      (shortcut): LambdaLayer()\n",
       "    )\n",
       "    (1): BasicBlock(\n",
       "      (conv1): Conv2d(32, 32, kernel_size=(3, 3), stride=(1, 1), padding=(1, 1), bias=False)\n",
       "      (bn1): BatchNorm2d(32, eps=1e-05, momentum=0.1, affine=True, track_running_stats=True)\n",
       "      (conv2): Conv2d(32, 32, kernel_size=(3, 3), stride=(1, 1), padding=(1, 1), bias=False)\n",
       "      (bn2): BatchNorm2d(32, eps=1e-05, momentum=0.1, affine=True, track_running_stats=True)\n",
       "      (activation_fnc): ReLU()\n",
       "      (shortcut): Sequential()\n",
       "    )\n",
       "    (2): BasicBlock(\n",
       "      (conv1): Conv2d(32, 32, kernel_size=(3, 3), stride=(1, 1), padding=(1, 1), bias=False)\n",
       "      (bn1): BatchNorm2d(32, eps=1e-05, momentum=0.1, affine=True, track_running_stats=True)\n",
       "      (conv2): Conv2d(32, 32, kernel_size=(3, 3), stride=(1, 1), padding=(1, 1), bias=False)\n",
       "      (bn2): BatchNorm2d(32, eps=1e-05, momentum=0.1, affine=True, track_running_stats=True)\n",
       "      (activation_fnc): ReLU()\n",
       "      (shortcut): Sequential()\n",
       "    )\n",
       "  )\n",
       "  (layer3): Sequential(\n",
       "    (0): BasicBlock(\n",
       "      (conv1): Conv2d(32, 64, kernel_size=(3, 3), stride=(2, 2), padding=(1, 1), bias=False)\n",
       "      (bn1): BatchNorm2d(64, eps=1e-05, momentum=0.1, affine=True, track_running_stats=True)\n",
       "      (conv2): Conv2d(64, 64, kernel_size=(3, 3), stride=(1, 1), padding=(1, 1), bias=False)\n",
       "      (bn2): BatchNorm2d(64, eps=1e-05, momentum=0.1, affine=True, track_running_stats=True)\n",
       "      (activation_fnc): ReLU()\n",
       "      (shortcut): LambdaLayer()\n",
       "    )\n",
       "    (1): BasicBlock(\n",
       "      (conv1): Conv2d(64, 64, kernel_size=(3, 3), stride=(1, 1), padding=(1, 1), bias=False)\n",
       "      (bn1): BatchNorm2d(64, eps=1e-05, momentum=0.1, affine=True, track_running_stats=True)\n",
       "      (conv2): Conv2d(64, 64, kernel_size=(3, 3), stride=(1, 1), padding=(1, 1), bias=False)\n",
       "      (bn2): BatchNorm2d(64, eps=1e-05, momentum=0.1, affine=True, track_running_stats=True)\n",
       "      (activation_fnc): ReLU()\n",
       "      (shortcut): Sequential()\n",
       "    )\n",
       "    (2): BasicBlock(\n",
       "      (conv1): Conv2d(64, 64, kernel_size=(3, 3), stride=(1, 1), padding=(1, 1), bias=False)\n",
       "      (bn1): BatchNorm2d(64, eps=1e-05, momentum=0.1, affine=True, track_running_stats=True)\n",
       "      (conv2): Conv2d(64, 64, kernel_size=(3, 3), stride=(1, 1), padding=(1, 1), bias=False)\n",
       "      (bn2): BatchNorm2d(64, eps=1e-05, momentum=0.1, affine=True, track_running_stats=True)\n",
       "      (activation_fnc): ReLU()\n",
       "      (shortcut): Sequential()\n",
       "    )\n",
       "  )\n",
       "  (linear): Linear(in_features=64, out_features=10, bias=True)\n",
       "  (loss_func): CrossEntropyLoss()\n",
       "  (activation_fnc): ReLU()\n",
       ")"
      ]
     },
     "execution_count": 15,
     "metadata": {},
     "output_type": "execute_result"
    }
   ],
   "source": [
    "origin_resnet"
   ]
  },
  {
   "cell_type": "code",
   "execution_count": null,
   "id": "0672bdfd",
   "metadata": {},
   "outputs": [],
   "source": []
  }
 ],
 "metadata": {
  "kernelspec": {
   "display_name": "Python 3 (ipykernel)",
   "language": "python",
   "name": "python3"
  },
  "language_info": {
   "codemirror_mode": {
    "name": "ipython",
    "version": 3
   },
   "file_extension": ".py",
   "mimetype": "text/x-python",
   "name": "python",
   "nbconvert_exporter": "python",
   "pygments_lexer": "ipython3",
   "version": "3.8.12"
  }
 },
 "nbformat": 4,
 "nbformat_minor": 5
}
