{
 "cells": [
  {
   "cell_type": "code",
   "execution_count": 1,
   "id": "c5ec6cee",
   "metadata": {},
   "outputs": [],
   "source": [
    "import sys\n",
    "\n",
    "sys.path.append('../')"
   ]
  },
  {
   "cell_type": "code",
   "execution_count": 2,
   "id": "6e7e213e",
   "metadata": {},
   "outputs": [],
   "source": [
    "import pickle\n",
    "from glob import glob\n",
    "import os\n",
    "import yaml\n",
    "from easydict import EasyDict as edict\n",
    "import numpy as np\n",
    "import torch"
   ]
  },
  {
   "cell_type": "code",
   "execution_count": 3,
   "id": "74e2e466",
   "metadata": {},
   "outputs": [],
   "source": [
    "from model.resnet_xor import *\n",
    "from model.resnet import *"
   ]
  },
  {
   "cell_type": "code",
   "execution_count": 4,
   "id": "9860646c",
   "metadata": {},
   "outputs": [],
   "source": [
    "from torchvision import transforms, datasets\n",
    "from torch.utils.data import DataLoader, random_split, ConcatDataset"
   ]
  },
  {
   "cell_type": "code",
   "execution_count": 5,
   "id": "a33f2915",
   "metadata": {},
   "outputs": [
    {
     "name": "stdout",
     "output_type": "stream",
     "text": [
      "Files already downloaded and verified\n"
     ]
    }
   ],
   "source": [
    "transform = transforms.Compose(\n",
    "    [transforms.ToTensor(), transforms.Normalize([0.5, 0.5, 0.5], [0.5, 0.5, 0.5])])\n",
    "test_dataset = datasets.CIFAR10(root='../xor_neuron_data/data',\n",
    "                                train=False,\n",
    "                                transform=transform,\n",
    "                                download=True)"
   ]
  },
  {
   "cell_type": "code",
   "execution_count": 6,
   "id": "fdc606fa",
   "metadata": {},
   "outputs": [],
   "source": [
    "test_loader = DataLoader(dataset=test_dataset,\n",
    "                                 batch_size=16,\n",
    "                                 shuffle=False)"
   ]
  },
  {
   "cell_type": "code",
   "execution_count": 7,
   "id": "6f5a7e50",
   "metadata": {},
   "outputs": [],
   "source": [
    "imgs, target = next(iter(test_loader))"
   ]
  },
  {
   "cell_type": "code",
   "execution_count": 8,
   "id": "884a4942",
   "metadata": {},
   "outputs": [],
   "source": [
    "# config_file = glob('../config/resnet/0207_resnet_quad_v2_rtx30/4.yaml')[0]\n",
    "# config = edict(yaml.load(open(config_file, 'r'), Loader=yaml.FullLoader))\n",
    "\n",
    "config_file = glob('../config/resnet/xor_resnet.yaml')[0]\n",
    "config = edict(yaml.load(open(config_file, 'r'), Loader=yaml.FullLoader))\n",
    "\n",
    "control_config_file = glob('../config/control_model/resnet20.yaml')[0]\n",
    "control_config = edict(yaml.load(open(control_config_file, 'r'), Loader=yaml.FullLoader))"
   ]
  },
  {
   "cell_type": "code",
   "execution_count": 9,
   "id": "99c62251",
   "metadata": {},
   "outputs": [],
   "source": [
    "config.model.num_blocks = [2,2,2,2]"
   ]
  },
  {
   "cell_type": "code",
   "execution_count": 10,
   "id": "801ddb4b",
   "metadata": {},
   "outputs": [],
   "source": [
    "config.model.name = 'resnet18'\n",
    "config.model.inner_net = 'quad'"
   ]
  },
  {
   "cell_type": "code",
   "execution_count": 11,
   "id": "cb85215e",
   "metadata": {},
   "outputs": [],
   "source": [
    "model = ResNet20_Xor(config)"
   ]
  },
  {
   "cell_type": "code",
   "execution_count": 12,
   "id": "048d9683",
   "metadata": {
    "scrolled": false
   },
   "outputs": [
    {
     "data": {
      "text/plain": [
       "ResNet_Xor(\n",
       "  (loss_func): CrossEntropyLoss()\n",
       "  (inner_net): QuadraticInnerNet(\n",
       "    (A): Linear(in_features=2, out_features=2, bias=False)\n",
       "    (b): Linear(in_features=2, out_features=1, bias=True)\n",
       "    (relu): ReLU(inplace=True)\n",
       "    (batch_norm): BatchNorm1d(1, eps=1e-05, momentum=0.1, affine=True, track_running_stats=True)\n",
       "  )\n",
       "  (conv1): Conv2d(3, 32, kernel_size=(3, 3), stride=(1, 1), padding=(1, 1), bias=False)\n",
       "  (bn1): BatchNorm2d(32, eps=1e-05, momentum=0.1, affine=True, track_running_stats=True)\n",
       "  (layer1): Sequential(\n",
       "    (0): BasicBlock_InnerNet(\n",
       "      (inner_net): QuadraticInnerNet(\n",
       "        (A): Linear(in_features=2, out_features=2, bias=False)\n",
       "        (b): Linear(in_features=2, out_features=1, bias=True)\n",
       "        (relu): ReLU(inplace=True)\n",
       "        (batch_norm): BatchNorm1d(1, eps=1e-05, momentum=0.1, affine=True, track_running_stats=True)\n",
       "      )\n",
       "      (conv1): Conv2d(16, 32, kernel_size=(3, 3), stride=(1, 1), padding=(1, 1), bias=False)\n",
       "      (bn1): BatchNorm2d(32, eps=1e-05, momentum=0.1, affine=True, track_running_stats=True)\n",
       "      (conv2): Conv2d(16, 32, kernel_size=(3, 3), stride=(1, 1), padding=(1, 1), bias=False)\n",
       "      (bn2): BatchNorm2d(32, eps=1e-05, momentum=0.1, affine=True, track_running_stats=True)\n",
       "      (conv3): Conv2d(16, 32, kernel_size=(1, 1), stride=(1, 1), bias=False)\n",
       "      (bn3): BatchNorm2d(32, eps=1e-05, momentum=0.1, affine=True, track_running_stats=True)\n",
       "      (shortcut): Sequential()\n",
       "    )\n",
       "    (1): BasicBlock_InnerNet(\n",
       "      (inner_net): QuadraticInnerNet(\n",
       "        (A): Linear(in_features=2, out_features=2, bias=False)\n",
       "        (b): Linear(in_features=2, out_features=1, bias=True)\n",
       "        (relu): ReLU(inplace=True)\n",
       "        (batch_norm): BatchNorm1d(1, eps=1e-05, momentum=0.1, affine=True, track_running_stats=True)\n",
       "      )\n",
       "      (conv1): Conv2d(16, 32, kernel_size=(3, 3), stride=(1, 1), padding=(1, 1), bias=False)\n",
       "      (bn1): BatchNorm2d(32, eps=1e-05, momentum=0.1, affine=True, track_running_stats=True)\n",
       "      (conv2): Conv2d(16, 32, kernel_size=(3, 3), stride=(1, 1), padding=(1, 1), bias=False)\n",
       "      (bn2): BatchNorm2d(32, eps=1e-05, momentum=0.1, affine=True, track_running_stats=True)\n",
       "      (conv3): Conv2d(16, 32, kernel_size=(1, 1), stride=(1, 1), bias=False)\n",
       "      (bn3): BatchNorm2d(32, eps=1e-05, momentum=0.1, affine=True, track_running_stats=True)\n",
       "      (shortcut): Sequential()\n",
       "    )\n",
       "  )\n",
       "  (layer2): Sequential(\n",
       "    (0): BasicBlock_InnerNet(\n",
       "      (inner_net): QuadraticInnerNet(\n",
       "        (A): Linear(in_features=2, out_features=2, bias=False)\n",
       "        (b): Linear(in_features=2, out_features=1, bias=True)\n",
       "        (relu): ReLU(inplace=True)\n",
       "        (batch_norm): BatchNorm1d(1, eps=1e-05, momentum=0.1, affine=True, track_running_stats=True)\n",
       "      )\n",
       "      (conv1): Conv2d(16, 64, kernel_size=(3, 3), stride=(2, 2), padding=(1, 1), bias=False)\n",
       "      (bn1): BatchNorm2d(64, eps=1e-05, momentum=0.1, affine=True, track_running_stats=True)\n",
       "      (conv2): Conv2d(32, 64, kernel_size=(3, 3), stride=(1, 1), padding=(1, 1), bias=False)\n",
       "      (bn2): BatchNorm2d(64, eps=1e-05, momentum=0.1, affine=True, track_running_stats=True)\n",
       "      (conv3): Conv2d(32, 64, kernel_size=(1, 1), stride=(1, 1), bias=False)\n",
       "      (bn3): BatchNorm2d(64, eps=1e-05, momentum=0.1, affine=True, track_running_stats=True)\n",
       "      (shortcut): LambdaLayer()\n",
       "    )\n",
       "    (1): BasicBlock_InnerNet(\n",
       "      (inner_net): QuadraticInnerNet(\n",
       "        (A): Linear(in_features=2, out_features=2, bias=False)\n",
       "        (b): Linear(in_features=2, out_features=1, bias=True)\n",
       "        (relu): ReLU(inplace=True)\n",
       "        (batch_norm): BatchNorm1d(1, eps=1e-05, momentum=0.1, affine=True, track_running_stats=True)\n",
       "      )\n",
       "      (conv1): Conv2d(32, 64, kernel_size=(3, 3), stride=(1, 1), padding=(1, 1), bias=False)\n",
       "      (bn1): BatchNorm2d(64, eps=1e-05, momentum=0.1, affine=True, track_running_stats=True)\n",
       "      (conv2): Conv2d(32, 64, kernel_size=(3, 3), stride=(1, 1), padding=(1, 1), bias=False)\n",
       "      (bn2): BatchNorm2d(64, eps=1e-05, momentum=0.1, affine=True, track_running_stats=True)\n",
       "      (conv3): Conv2d(32, 64, kernel_size=(1, 1), stride=(1, 1), bias=False)\n",
       "      (bn3): BatchNorm2d(64, eps=1e-05, momentum=0.1, affine=True, track_running_stats=True)\n",
       "      (shortcut): Sequential()\n",
       "    )\n",
       "  )\n",
       "  (layer3): Sequential(\n",
       "    (0): BasicBlock_InnerNet(\n",
       "      (inner_net): QuadraticInnerNet(\n",
       "        (A): Linear(in_features=2, out_features=2, bias=False)\n",
       "        (b): Linear(in_features=2, out_features=1, bias=True)\n",
       "        (relu): ReLU(inplace=True)\n",
       "        (batch_norm): BatchNorm1d(1, eps=1e-05, momentum=0.1, affine=True, track_running_stats=True)\n",
       "      )\n",
       "      (conv1): Conv2d(32, 128, kernel_size=(3, 3), stride=(2, 2), padding=(1, 1), bias=False)\n",
       "      (bn1): BatchNorm2d(128, eps=1e-05, momentum=0.1, affine=True, track_running_stats=True)\n",
       "      (conv2): Conv2d(64, 128, kernel_size=(3, 3), stride=(1, 1), padding=(1, 1), bias=False)\n",
       "      (bn2): BatchNorm2d(128, eps=1e-05, momentum=0.1, affine=True, track_running_stats=True)\n",
       "      (conv3): Conv2d(64, 128, kernel_size=(1, 1), stride=(1, 1), bias=False)\n",
       "      (bn3): BatchNorm2d(128, eps=1e-05, momentum=0.1, affine=True, track_running_stats=True)\n",
       "      (shortcut): LambdaLayer()\n",
       "    )\n",
       "    (1): BasicBlock_InnerNet(\n",
       "      (inner_net): QuadraticInnerNet(\n",
       "        (A): Linear(in_features=2, out_features=2, bias=False)\n",
       "        (b): Linear(in_features=2, out_features=1, bias=True)\n",
       "        (relu): ReLU(inplace=True)\n",
       "        (batch_norm): BatchNorm1d(1, eps=1e-05, momentum=0.1, affine=True, track_running_stats=True)\n",
       "      )\n",
       "      (conv1): Conv2d(64, 128, kernel_size=(3, 3), stride=(1, 1), padding=(1, 1), bias=False)\n",
       "      (bn1): BatchNorm2d(128, eps=1e-05, momentum=0.1, affine=True, track_running_stats=True)\n",
       "      (conv2): Conv2d(64, 128, kernel_size=(3, 3), stride=(1, 1), padding=(1, 1), bias=False)\n",
       "      (bn2): BatchNorm2d(128, eps=1e-05, momentum=0.1, affine=True, track_running_stats=True)\n",
       "      (conv3): Conv2d(64, 128, kernel_size=(1, 1), stride=(1, 1), bias=False)\n",
       "      (bn3): BatchNorm2d(128, eps=1e-05, momentum=0.1, affine=True, track_running_stats=True)\n",
       "      (shortcut): Sequential()\n",
       "    )\n",
       "  )\n",
       "  (linear): Linear(in_features=64, out_features=10, bias=True)\n",
       ")"
      ]
     },
     "execution_count": 12,
     "metadata": {},
     "output_type": "execute_result"
    }
   ],
   "source": [
    "model"
   ]
  },
  {
   "cell_type": "code",
   "execution_count": 13,
   "id": "2db2ad15",
   "metadata": {
    "scrolled": false
   },
   "outputs": [
    {
     "name": "stdout",
     "output_type": "stream",
     "text": [
      "torch.Size([16, 16, 1024, 2])\n",
      "torch.Size([16, 16, 1024])\n",
      "torch.Size([16, 16, 1024, 2])\n",
      "torch.Size([16, 16, 1024])\n",
      "torch.Size([16, 16, 1024, 2])\n",
      "torch.Size([16, 16, 1024])\n",
      "torch.Size([16, 16, 1024, 2])\n",
      "torch.Size([16, 16, 1024])\n",
      "torch.Size([16, 16, 1024, 2])\n",
      "torch.Size([16, 16, 1024])\n",
      "torch.Size([16, 16, 1024, 2])\n",
      "torch.Size([16, 16, 1024])\n",
      "torch.Size([16, 16, 1024, 2])\n",
      "torch.Size([16, 16, 1024])\n",
      "torch.Size([16, 32, 256, 2])\n",
      "torch.Size([16, 32, 256])\n",
      "torch.Size([16, 32, 256, 2])\n",
      "torch.Size([16, 32, 256])\n",
      "torch.Size([16, 32, 256, 2])\n",
      "torch.Size([16, 32, 256])\n",
      "torch.Size([16, 32, 256, 2])\n",
      "torch.Size([16, 32, 256])\n",
      "torch.Size([16, 32, 256, 2])\n",
      "torch.Size([16, 32, 256])\n",
      "torch.Size([16, 32, 256, 2])\n",
      "torch.Size([16, 32, 256])\n",
      "torch.Size([16, 64, 64, 2])\n",
      "torch.Size([16, 64, 64])\n",
      "torch.Size([16, 64, 64, 2])\n",
      "torch.Size([16, 64, 64])\n",
      "torch.Size([16, 64, 64, 2])\n",
      "torch.Size([16, 64, 64])\n",
      "torch.Size([16, 64, 64, 2])\n",
      "torch.Size([16, 64, 64])\n",
      "torch.Size([16, 64, 64, 2])\n",
      "torch.Size([16, 64, 64])\n",
      "torch.Size([16, 64, 64, 2])\n",
      "torch.Size([16, 64, 64])\n"
     ]
    }
   ],
   "source": [
    "out, loss, _ = model(imgs, target)"
   ]
  },
  {
   "cell_type": "code",
   "execution_count": 14,
   "id": "4b8dd8f3",
   "metadata": {},
   "outputs": [
    {
     "data": {
      "text/plain": [
       "tensor([[ 8.2685e-02, -4.7324e-02,  1.8448e-02, -1.9922e-01,  7.4221e-02,\n",
       "         -3.9740e-02, -7.9478e-02, -2.6982e-02, -2.8880e-02,  7.9810e-02],\n",
       "        [ 8.2685e-02, -4.7324e-02,  1.8448e-02, -1.9922e-01,  7.4221e-02,\n",
       "         -3.9740e-02, -7.9478e-02, -2.6982e-02, -2.8880e-02,  7.9810e-02],\n",
       "        [ 8.2685e-02, -4.7324e-02,  1.8448e-02, -1.9922e-01,  7.4221e-02,\n",
       "         -3.9740e-02, -7.9478e-02, -2.6982e-02, -2.8880e-02,  7.9810e-02],\n",
       "        [ 8.2685e-02, -4.7324e-02,  1.8448e-02, -1.9922e-01,  7.4221e-02,\n",
       "         -3.9740e-02, -7.9478e-02, -2.6982e-02, -2.8880e-02,  7.9810e-02],\n",
       "        [ 8.2685e-02, -4.7324e-02,  1.8448e-02, -1.9922e-01,  7.4221e-02,\n",
       "         -3.9740e-02, -7.9478e-02, -2.6982e-02, -2.8880e-02,  7.9810e-02],\n",
       "        [ 8.2685e-02, -4.7324e-02,  1.8448e-02, -1.9922e-01,  7.4221e-02,\n",
       "         -3.9740e-02, -7.9478e-02, -2.6982e-02, -2.8880e-02,  7.9810e-02],\n",
       "        [-4.8800e+00,  1.6423e+00, -9.4857e+00,  1.8785e+01,  9.5898e+00,\n",
       "         -4.7844e+00, -8.6375e+00, -5.5401e+00,  7.1681e+00, -6.4442e+00],\n",
       "        [ 8.2685e-02, -4.7324e-02,  1.8448e-02, -1.9922e-01,  7.4221e-02,\n",
       "         -3.9740e-02, -7.9478e-02, -2.6982e-02, -2.8880e-02,  7.9810e-02],\n",
       "        [ 8.2685e-02, -4.7324e-02,  1.8448e-02, -1.9922e-01,  7.4221e-02,\n",
       "         -3.9740e-02, -7.9478e-02, -2.6982e-02, -2.8880e-02,  7.9810e-02],\n",
       "        [ 8.2685e-02, -4.7324e-02,  1.8448e-02, -1.9922e-01,  7.4221e-02,\n",
       "         -3.9740e-02, -7.9478e-02, -2.6982e-02, -2.8880e-02,  7.9810e-02],\n",
       "        [ 8.2685e-02, -4.7324e-02,  1.8448e-02, -1.9922e-01,  7.4221e-02,\n",
       "         -3.9740e-02, -7.9478e-02, -2.6982e-02, -2.8880e-02,  7.9810e-02],\n",
       "        [ 8.2685e-02, -4.7324e-02,  1.8449e-02, -1.9922e-01,  7.4221e-02,\n",
       "         -3.9739e-02, -7.9478e-02, -2.6982e-02, -2.8880e-02,  7.9810e-02],\n",
       "        [ 8.2685e-02, -4.7324e-02,  1.8448e-02, -1.9922e-01,  7.4221e-02,\n",
       "         -3.9740e-02, -7.9478e-02, -2.6982e-02, -2.8880e-02,  7.9810e-02],\n",
       "        [ 8.2685e-02, -4.7324e-02,  1.8448e-02, -1.9922e-01,  7.4221e-02,\n",
       "         -3.9740e-02, -7.9478e-02, -2.6982e-02, -2.8880e-02,  7.9810e-02],\n",
       "        [ 8.2685e-02, -4.7324e-02,  1.8448e-02, -1.9922e-01,  7.4221e-02,\n",
       "         -3.9740e-02, -7.9478e-02, -2.6982e-02, -2.8880e-02,  7.9810e-02],\n",
       "        [ 8.2685e-02, -4.7324e-02,  1.8448e-02, -1.9922e-01,  7.4221e-02,\n",
       "         -3.9740e-02, -7.9478e-02, -2.6982e-02, -2.8880e-02,  7.9810e-02]],\n",
       "       grad_fn=<AddmmBackward>)"
      ]
     },
     "execution_count": 14,
     "metadata": {},
     "output_type": "execute_result"
    }
   ],
   "source": [
    "out"
   ]
  },
  {
   "cell_type": "code",
   "execution_count": 15,
   "id": "e540793e",
   "metadata": {},
   "outputs": [
    {
     "data": {
      "text/plain": [
       "tensor(3.2496, grad_fn=<NllLossBackward>)"
      ]
     },
     "execution_count": 15,
     "metadata": {},
     "output_type": "execute_result"
    }
   ],
   "source": [
    "loss"
   ]
  },
  {
   "cell_type": "code",
   "execution_count": null,
   "id": "0672bdfd",
   "metadata": {},
   "outputs": [],
   "source": []
  }
 ],
 "metadata": {
  "kernelspec": {
   "display_name": "Python 3",
   "language": "python",
   "name": "python3"
  },
  "language_info": {
   "codemirror_mode": {
    "name": "ipython",
    "version": 3
   },
   "file_extension": ".py",
   "mimetype": "text/x-python",
   "name": "python",
   "nbconvert_exporter": "python",
   "pygments_lexer": "ipython3",
   "version": "3.8.10"
  }
 },
 "nbformat": 4,
 "nbformat_minor": 5
}
