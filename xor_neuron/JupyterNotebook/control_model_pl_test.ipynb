{
 "cells": [
  {
   "cell_type": "code",
   "execution_count": null,
   "id": "f8551f31",
   "metadata": {},
   "outputs": [],
   "source": [
    "import numpy as np\n",
    "import torch\n",
    "import torch.nn as nn\n",
    "import torch.nn.functional as F"
   ]
  },
  {
   "cell_type": "code",
   "execution_count": null,
   "id": "0262da7b",
   "metadata": {},
   "outputs": [],
   "source": [
    "import pickle\n",
    "from glob import glob\n",
    "import os\n",
    "import yaml\n",
    "from easydict import EasyDict as edict"
   ]
  },
  {
   "cell_type": "code",
   "execution_count": null,
   "id": "6070abda",
   "metadata": {},
   "outputs": [],
   "source": [
    "import sys\n",
    "\n",
    "sys.path.append('../')"
   ]
  },
  {
   "cell_type": "code",
   "execution_count": null,
   "id": "9f84ba69",
   "metadata": {},
   "outputs": [],
   "source": [
    "from model.controlmodel import *\n",
    "from torchvision import transforms, datasets\n",
    "from torch.utils.data import DataLoader, random_split, ConcatDataset"
   ]
  },
  {
   "cell_type": "code",
   "execution_count": null,
   "id": "a98a46a3",
   "metadata": {},
   "outputs": [],
   "source": [
    "import pytorch_lightning as pl\n",
    "from torchmetrics import Accuracy"
   ]
  },
  {
   "cell_type": "code",
   "execution_count": null,
   "id": "f285ace0",
   "metadata": {},
   "outputs": [],
   "source": [
    "config_file = glob('../config/control_model/control_mlp_cifar.yaml')[0]\n",
    "config = edict(yaml.load(open(config_file, 'r'), Loader=yaml.FullLoader))"
   ]
  },
  {
   "cell_type": "code",
   "execution_count": null,
   "id": "5b584667",
   "metadata": {},
   "outputs": [],
   "source": [
    "transform = transforms.Compose(\n",
    "    [transforms.ToTensor(), transforms.Normalize([0.5, 0.5, 0.5], [0.5, 0.5, 0.5])])\n",
    "\n",
    "train_dataset = datasets.CIFAR10(root='../xor_neuron_data/data',\n",
    "                                train=True,\n",
    "                                transform=transform,\n",
    "                                download=False)\n",
    "\n",
    "validation_dataset = datasets.CIFAR10(root='../xor_neuron_data/data',\n",
    "                                train=False,\n",
    "                                transform=transform,\n",
    "                                download=False)"
   ]
  },
  {
   "cell_type": "code",
   "execution_count": null,
   "id": "a6b8c387",
   "metadata": {},
   "outputs": [],
   "source": [
    "train_loader = DataLoader(dataset=train_dataset,\n",
    "                                 batch_size=16,\n",
    "                                 shuffle=False)\n",
    "\n",
    "validation_loader = DataLoader(dataset=validation_dataset,\n",
    "                                 batch_size=16,\n",
    "                                 shuffle=False)\n"
   ]
  },
  {
   "cell_type": "code",
   "execution_count": null,
   "id": "53c0c6f1",
   "metadata": {},
   "outputs": [],
   "source": [
    "class MLP_model(nn.Module):\n",
    "\n",
    "    def __init__(self, config):\n",
    "        super(MLP_model, self).__init__()\n",
    "        self.control = config\n",
    "        self.input_dim = config.model.input_dim\n",
    "        self.num_classes = config.model.num_classes\n",
    "        self.dropout = config.model.dropout\n",
    "        self.hidden_dim = config.model.hidden_dim\n",
    "\n",
    "        self.loss = config.model.loss\n",
    "\n",
    "        self.model = nn.ModuleList()\n",
    "\n",
    "        for i in range(len(self.hidden_dim)):\n",
    "            if i == 0:\n",
    "                self.model.append(\n",
    "                    nn.Linear(self.input_dim, self.hidden_dim[i])\n",
    "                )\n",
    "\n",
    "            else:\n",
    "                self.model.append(\n",
    "                    nn.Linear(self.hidden_dim[i - 1], self.hidden_dim[i])\n",
    "                )\n",
    "\n",
    "        self.fc_out = nn.Linear(self.hidden_dim[-1], self.num_classes)\n",
    "\n",
    "        self.drop_layer = nn.Dropout(p=self.dropout)\n",
    "        self.activation_fnc = nn.ReLU()\n",
    "\n",
    "\n",
    "    def forward(self, x):\n",
    "        x = x.reshape(-1, np.array(x.shape[1:]).prod())\n",
    "\n",
    "        for i, fc in enumerate(self.model):\n",
    "            if i == 0:\n",
    "                out = fc(x)\n",
    "            else:\n",
    "                out = fc(out)\n",
    "            out = self.activation_fnc(nn.LayerNorm(out.size()[1:], elementwise_affine=False)(out))\n",
    "            out = self.drop_layer(out)\n",
    "\n",
    "        out = self.fc_out(out)\n",
    "\n",
    "        return out"
   ]
  },
  {
   "cell_type": "code",
   "execution_count": null,
   "id": "02deadc4",
   "metadata": {},
   "outputs": [],
   "source": [
    "class Classifier(pl.LightningModule):\n",
    "    def __init__(self, config):\n",
    "        super().__init__()\n",
    "        self.model = Control_MLP(config)\n",
    "        self.acc_fnc = Accuracy()\n",
    "        \n",
    "    def forward(self, x, y):\n",
    "        return self.model(x, y)\n",
    "\n",
    "    def training_step(self, batch, batch_idx):\n",
    "        x, y = batch\n",
    "        logits, loss = self(x, y)\n",
    "        metrics = {'train_loss': loss}\n",
    "        self.log_dict(metrics)\n",
    "        \n",
    "        return loss\n",
    "\n",
    "    def validation_step(self, batch, batch_idx):\n",
    "        x, y = batch\n",
    "\n",
    "        logits, loss = self(x, y)\n",
    "        \n",
    "        acc = self.acc_fnc(logits, y)\n",
    "        \n",
    "        metrics = {'val_acc': acc, 'val_loss': loss}\n",
    "        self.log_dict(metrics)\n",
    "\n",
    "    def test_step(self, batch, batch_idx):\n",
    "        x, y = batch\n",
    "\n",
    "        logits, loss = self(x)\n",
    "        acc = self.acc_fnc(logits, y)\n",
    "        \n",
    "        metrics = {'test_acc': acc, 'test_loss': loss}\n",
    "        self.log_dict(metrics)\n",
    "    \n",
    "    def configure_optimizers(self):\n",
    "        optimizer = torch.optim.SGD(\n",
    "            self.model.parameters(),\n",
    "            lr=0.001,\n",
    "            weight_decay=0.00001,\n",
    "            momentum=0.9,\n",
    "            nesterov=True,\n",
    "        )\n",
    "        \n",
    "        \n",
    "        scheduler = torch.optim.lr_scheduler.MultiStepLR(\n",
    "            optimizer,\n",
    "            milestones=[1000],\n",
    "            gamma=0.001)\n",
    "        \n",
    "        return [optimizer], [scheduler]"
   ]
  },
  {
   "cell_type": "code",
   "execution_count": null,
   "id": "ae959b83",
   "metadata": {},
   "outputs": [],
   "source": [
    "control_model = Classifier(config)"
   ]
  },
  {
   "cell_type": "code",
   "execution_count": null,
   "id": "d27b9815",
   "metadata": {},
   "outputs": [],
   "source": [
    "control_model"
   ]
  },
  {
   "cell_type": "code",
   "execution_count": null,
   "id": "0f7bed74",
   "metadata": {
    "scrolled": false
   },
   "outputs": [],
   "source": [
    "trainer = pl.Trainer(max_epochs=3, gpus=0)\n",
    "trainer.fit(control_model, train_loader, validation_loader)"
   ]
  },
  {
   "cell_type": "code",
   "execution_count": null,
   "id": "43e1b3dc",
   "metadata": {},
   "outputs": [],
   "source": []
  }
 ],
 "metadata": {
  "kernelspec": {
   "display_name": "Python 3",
   "language": "python",
   "name": "python3"
  },
  "language_info": {
   "codemirror_mode": {
    "name": "ipython",
    "version": 3
   },
   "file_extension": ".py",
   "mimetype": "text/x-python",
   "name": "python",
   "nbconvert_exporter": "python",
   "pygments_lexer": "ipython3",
   "version": "3.8.10"
  }
 },
 "nbformat": 4,
 "nbformat_minor": 5
}
