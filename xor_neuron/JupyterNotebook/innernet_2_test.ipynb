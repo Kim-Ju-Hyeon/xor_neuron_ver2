{
 "cells": [
  {
   "cell_type": "code",
   "execution_count": 1,
   "id": "47473464",
   "metadata": {},
   "outputs": [],
   "source": [
    "from collections import OrderedDict\n",
    "import math\n",
    "import numpy as np\n",
    "import torch\n",
    "import torch.nn as nn\n",
    "import torch.nn.functional as F\n",
    "from torch import rand, matmul, diag, einsum\n",
    "from time import time"
   ]
  },
  {
   "cell_type": "code",
   "execution_count": 45,
   "id": "4701b5fb",
   "metadata": {},
   "outputs": [],
   "source": [
    "import sys\n",
    "\n",
    "sys.path.append('../')"
   ]
  },
  {
   "cell_type": "code",
   "execution_count": 46,
   "id": "99051423",
   "metadata": {},
   "outputs": [],
   "source": [
    "from model.resnet import *"
   ]
  },
  {
   "cell_type": "code",
   "execution_count": null,
   "id": "85a3752e",
   "metadata": {},
   "outputs": [],
   "source": []
  },
  {
   "cell_type": "code",
   "execution_count": 2,
   "id": "231256b7",
   "metadata": {},
   "outputs": [],
   "source": [
    "batch_size = 16\n",
    "num_channel = 16\n",
    "arg_in_dim = 2\n",
    "num_cell_types = 1\n",
    "in_hidden_dim = 64\n",
    "\n",
    "\n",
    "mlp_inputs = rand(batch_size,128)\n",
    "conv_inputs = rand(batch_size, num_channel, 64, 64)"
   ]
  },
  {
   "cell_type": "code",
   "execution_count": 3,
   "id": "9511ee85",
   "metadata": {},
   "outputs": [],
   "source": [
    "inner_net = nn.Sequential(OrderedDict([\n",
    "            ('fc1', nn.Linear(arg_in_dim, in_hidden_dim)),\n",
    "            ('relu1', nn.ReLU()),\n",
    "            ('fc2', nn.Linear(in_hidden_dim, in_hidden_dim)),\n",
    "            ('relu2', nn.ReLU()),\n",
    "            ('fc3', nn.Linear(in_hidden_dim, 1))]))"
   ]
  },
  {
   "cell_type": "code",
   "execution_count": 4,
   "id": "cc8cbda6",
   "metadata": {},
   "outputs": [],
   "source": [
    "mlp_outputs = inner_net(mlp_inputs.reshape(batch_size, -1, arg_in_dim)).squeeze()"
   ]
  },
  {
   "cell_type": "code",
   "execution_count": 5,
   "id": "d4b328ae",
   "metadata": {},
   "outputs": [
    {
     "data": {
      "text/plain": [
       "torch.Size([16, 8, 4096, 2])"
      ]
     },
     "execution_count": 5,
     "metadata": {},
     "output_type": "execute_result"
    }
   ],
   "source": [
    "conv_inputs.reshape(batch_size, num_channel//arg_in_dim, -1, arg_in_dim).shape"
   ]
  },
  {
   "cell_type": "code",
   "execution_count": 6,
   "id": "5db88458",
   "metadata": {},
   "outputs": [],
   "source": [
    "conv_outputs = inner_net(conv_inputs.reshape(batch_size, num_channel//arg_in_dim, -1, arg_in_dim)).squeeze()\n",
    "conv_outputs = conv_outputs.reshape(batch_size, -1, 64, 64)"
   ]
  },
  {
   "cell_type": "code",
   "execution_count": 7,
   "id": "abd91096",
   "metadata": {},
   "outputs": [
    {
     "name": "stdout",
     "output_type": "stream",
     "text": [
      "torch.Size([16, 128])\n",
      "torch.Size([16, 64])\n",
      "torch.Size([16, 16, 64, 64])\n",
      "torch.Size([16, 8, 64, 64])\n"
     ]
    }
   ],
   "source": [
    "print(mlp_inputs.shape)\n",
    "print(mlp_outputs.shape)\n",
    "\n",
    "print(conv_inputs.shape)\n",
    "print(conv_outputs.shape)"
   ]
  },
  {
   "cell_type": "code",
   "execution_count": 40,
   "id": "cf4ede10",
   "metadata": {},
   "outputs": [],
   "source": [
    "from torchvision import transforms, datasets\n",
    "from torch.utils.data import DataLoader, random_split, ConcatDataset"
   ]
  },
  {
   "cell_type": "code",
   "execution_count": 41,
   "id": "45cc04e6",
   "metadata": {},
   "outputs": [],
   "source": [
    "transform = transforms.Compose(\n",
    "    [transforms.ToTensor(), transforms.Normalize([0.5, 0.5, 0.5], [0.5, 0.5, 0.5])])\n",
    "test_dataset = datasets.CIFAR10(root='../xor_neuron_data/data',\n",
    "                                train=False,\n",
    "                                transform=transform,\n",
    "                                download=False)"
   ]
  },
  {
   "cell_type": "code",
   "execution_count": 42,
   "id": "8df42313",
   "metadata": {},
   "outputs": [],
   "source": [
    "test_loader = DataLoader(dataset=test_dataset,\n",
    "                                 batch_size=batch_size,\n",
    "                                 shuffle=False)"
   ]
  },
  {
   "cell_type": "code",
   "execution_count": 43,
   "id": "f7191685",
   "metadata": {},
   "outputs": [],
   "source": [
    "imgs, target = next(iter(test_loader))"
   ]
  },
  {
   "cell_type": "code",
   "execution_count": null,
   "id": "c703998f",
   "metadata": {},
   "outputs": [],
   "source": []
  }
 ],
 "metadata": {
  "kernelspec": {
   "display_name": "Python 3 (ipykernel)",
   "language": "python",
   "name": "python3"
  },
  "language_info": {
   "codemirror_mode": {
    "name": "ipython",
    "version": 3
   },
   "file_extension": ".py",
   "mimetype": "text/x-python",
   "name": "python",
   "nbconvert_exporter": "python",
   "pygments_lexer": "ipython3",
   "version": "3.8.12"
  }
 },
 "nbformat": 4,
 "nbformat_minor": 5
}
