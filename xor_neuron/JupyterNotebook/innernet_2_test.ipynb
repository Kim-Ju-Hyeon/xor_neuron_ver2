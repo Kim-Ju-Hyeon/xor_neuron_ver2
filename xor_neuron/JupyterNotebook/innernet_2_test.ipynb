{
 "cells": [
  {
   "cell_type": "code",
   "execution_count": 1,
   "id": "47473464",
   "metadata": {},
   "outputs": [],
   "source": [
    "from collections import OrderedDict\n",
    "import math\n",
    "import numpy as np\n",
    "import torch\n",
    "import torch.nn as nn\n",
    "import torch.nn.functional as F\n",
    "from torch import rand, matmul, diag, einsum\n",
    "from time import time"
   ]
  },
  {
   "cell_type": "code",
   "execution_count": 2,
   "id": "4701b5fb",
   "metadata": {},
   "outputs": [],
   "source": [
    "import sys\n",
    "\n",
    "sys.path.append('../')"
   ]
  },
  {
   "cell_type": "code",
   "execution_count": 3,
   "id": "99051423",
   "metadata": {},
   "outputs": [],
   "source": [
    "from model.resnet import *"
   ]
  },
  {
   "cell_type": "code",
   "execution_count": 4,
   "id": "6c88eb3d",
   "metadata": {},
   "outputs": [],
   "source": [
    "from torchvision import transforms, datasets\n",
    "from torch.utils.data import DataLoader, random_split, ConcatDataset"
   ]
  },
  {
   "cell_type": "code",
   "execution_count": 5,
   "id": "1d067d19",
   "metadata": {},
   "outputs": [],
   "source": [
    "transform = transforms.Compose(\n",
    "    [transforms.ToTensor(), transforms.Normalize([0.5, 0.5, 0.5], [0.5, 0.5, 0.5])])\n",
    "test_dataset = datasets.CIFAR10(root='../xor_neuron_data/data',\n",
    "                                train=False,\n",
    "                                transform=transform,\n",
    "                                download=False)"
   ]
  },
  {
   "cell_type": "code",
   "execution_count": 20,
   "id": "231256b7",
   "metadata": {},
   "outputs": [],
   "source": [
    "batch_size = 16\n",
    "num_channel = 16\n",
    "arg_in_dim = 2\n",
    "num_cell_types = 1\n",
    "in_hidden_dim = 64\n",
    "\n",
    "\n",
    "mlp_inputs = rand(batch_size,128)\n",
    "conv_inputs = rand(batch_size, num_channel, 64, 64)"
   ]
  },
  {
   "cell_type": "code",
   "execution_count": 21,
   "id": "c654dbb1",
   "metadata": {},
   "outputs": [],
   "source": [
    "test_loader = DataLoader(dataset=test_dataset,\n",
    "                                 batch_size=batch_size,\n",
    "                                 shuffle=False)\n",
    "\n",
    "imgs, target = next(iter(test_loader))"
   ]
  },
  {
   "cell_type": "code",
   "execution_count": 22,
   "id": "9511ee85",
   "metadata": {},
   "outputs": [],
   "source": [
    "inner_net = nn.Sequential(OrderedDict([\n",
    "            ('fc1', nn.Linear(arg_in_dim, in_hidden_dim)),\n",
    "            ('relu1', nn.ReLU()),\n",
    "            ('fc2', nn.Linear(in_hidden_dim, in_hidden_dim)),\n",
    "            ('relu2', nn.ReLU()),\n",
    "            ('fc3', nn.Linear(in_hidden_dim, 1))]))"
   ]
  },
  {
   "cell_type": "code",
   "execution_count": 23,
   "id": "cc8cbda6",
   "metadata": {},
   "outputs": [],
   "source": [
    "mlp_outputs = inner_net(mlp_inputs.reshape(batch_size, -1, arg_in_dim)).squeeze()"
   ]
  },
  {
   "cell_type": "code",
   "execution_count": 24,
   "id": "d4b328ae",
   "metadata": {},
   "outputs": [
    {
     "data": {
      "text/plain": [
       "torch.Size([16, 8, 4096, 2])"
      ]
     },
     "execution_count": 24,
     "metadata": {},
     "output_type": "execute_result"
    }
   ],
   "source": [
    "conv_inputs.reshape(batch_size, num_channel//arg_in_dim, -1, arg_in_dim).shape"
   ]
  },
  {
   "cell_type": "code",
   "execution_count": 25,
   "id": "5db88458",
   "metadata": {},
   "outputs": [],
   "source": [
    "conv_outputs = inner_net(conv_inputs.reshape(batch_size, num_channel//arg_in_dim, -1, arg_in_dim)).squeeze()\n",
    "conv_outputs = conv_outputs.reshape(batch_size, -1, 64, 64)"
   ]
  },
  {
   "cell_type": "code",
   "execution_count": 26,
   "id": "abd91096",
   "metadata": {},
   "outputs": [
    {
     "name": "stdout",
     "output_type": "stream",
     "text": [
      "torch.Size([16, 128])\n",
      "torch.Size([16, 64])\n",
      "torch.Size([16, 16, 64, 64])\n",
      "torch.Size([16, 8, 64, 64])\n"
     ]
    }
   ],
   "source": [
    "print(mlp_inputs.shape)\n",
    "print(mlp_outputs.shape)\n",
    "\n",
    "print(conv_inputs.shape)\n",
    "print(conv_outputs.shape)"
   ]
  },
  {
   "cell_type": "code",
   "execution_count": 110,
   "id": "4dc89aab",
   "metadata": {},
   "outputs": [],
   "source": [
    "class QuadraticInnerNet(nn.Module):\n",
    "    def __init__(self):\n",
    "        super(QuadraticInnerNet, self).__init__()\n",
    "        self.A = nn.Linear(2, 2, bias=False)\n",
    "        self.b = nn.Linear(2, 1, bias=False)\n",
    "\n",
    "    def forward(self, x):\n",
    "        if len(x.shape) == 2:\n",
    "            inputs = x.reshape(x.shape[0], -1, 2)\n",
    "            \n",
    "            x_123 = self.A(inputs)\n",
    "            x_45 = self.b(inputs)\n",
    "            \n",
    "            out = einsum('ijk, ijk -> ij', x_123, inputs).unsqueeze(dim=-1)\n",
    "            out += x_45\n",
    "            out = out.squeeze()\n",
    "            \n",
    "        elif len(x.shape) == 4:\n",
    "            inputs = x.reshape(x.shape[0], x.shape[1]//2, -1, 2)\n",
    "            \n",
    "            x_123 = self.A(inputs)\n",
    "            x_45 = self.b(inputs)\n",
    "            \n",
    "            out = einsum('ijkh, ijkh -> ijk', x_123, inputs).unsqueeze(dim=-1)\n",
    "            out += x_45\n",
    "            out = out.squeeze()\n",
    "            out = out.reshape(x.shape[0], -1, x.shape[-1], x.shape[-1])\n",
    "            \n",
    "        return out"
   ]
  },
  {
   "cell_type": "code",
   "execution_count": 111,
   "id": "e2d1c561",
   "metadata": {},
   "outputs": [],
   "source": [
    "quad_inner = QuadraticInnerNet()"
   ]
  },
  {
   "cell_type": "code",
   "execution_count": 112,
   "id": "61839588",
   "metadata": {},
   "outputs": [
    {
     "data": {
      "text/plain": [
       "QuadraticInnerNet(\n",
       "  (A): Linear(in_features=2, out_features=2, bias=False)\n",
       "  (b): Linear(in_features=2, out_features=1, bias=False)\n",
       ")"
      ]
     },
     "execution_count": 112,
     "metadata": {},
     "output_type": "execute_result"
    }
   ],
   "source": [
    "quad_inner"
   ]
  },
  {
   "cell_type": "code",
   "execution_count": 113,
   "id": "11c0b278",
   "metadata": {},
   "outputs": [
    {
     "data": {
      "text/plain": [
       "torch.Size([16, 16, 64, 64])"
      ]
     },
     "execution_count": 113,
     "metadata": {},
     "output_type": "execute_result"
    }
   ],
   "source": [
    "conv_inputs.shape"
   ]
  },
  {
   "cell_type": "code",
   "execution_count": 114,
   "id": "41407b77",
   "metadata": {},
   "outputs": [
    {
     "data": {
      "text/plain": [
       "torch.Size([16, 128])"
      ]
     },
     "execution_count": 114,
     "metadata": {},
     "output_type": "execute_result"
    }
   ],
   "source": [
    "mlp_inputs.shape"
   ]
  },
  {
   "cell_type": "code",
   "execution_count": 115,
   "id": "05180a3c",
   "metadata": {},
   "outputs": [],
   "source": [
    "input_innernet = conv_inputs.reshape(batch_size, num_channel//arg_in_dim, -1, arg_in_dim)"
   ]
  },
  {
   "cell_type": "code",
   "execution_count": 116,
   "id": "787102ba",
   "metadata": {},
   "outputs": [],
   "source": [
    "conv_outputs = quad_inner(conv_inputs)"
   ]
  },
  {
   "cell_type": "code",
   "execution_count": 117,
   "id": "c299f15f",
   "metadata": {},
   "outputs": [
    {
     "data": {
      "text/plain": [
       "torch.Size([16, 8, 64, 64])"
      ]
     },
     "execution_count": 117,
     "metadata": {},
     "output_type": "execute_result"
    }
   ],
   "source": [
    "conv_outputs.shape"
   ]
  },
  {
   "cell_type": "code",
   "execution_count": 118,
   "id": "d023abc8",
   "metadata": {},
   "outputs": [
    {
     "data": {
      "text/plain": [
       "torch.Size([16, 64, 2])"
      ]
     },
     "execution_count": 118,
     "metadata": {},
     "output_type": "execute_result"
    }
   ],
   "source": [
    "mlp_inputs.reshape(batch_size, -1, arg_in_dim).shape"
   ]
  },
  {
   "cell_type": "code",
   "execution_count": 119,
   "id": "095c3205",
   "metadata": {},
   "outputs": [],
   "source": [
    "mlp_outputs = quad_inner(mlp_inputs)"
   ]
  },
  {
   "cell_type": "code",
   "execution_count": 120,
   "id": "d9727e12",
   "metadata": {},
   "outputs": [
    {
     "data": {
      "text/plain": [
       "torch.Size([16, 64])"
      ]
     },
     "execution_count": 120,
     "metadata": {},
     "output_type": "execute_result"
    }
   ],
   "source": [
    "mlp_outputs.shape"
   ]
  },
  {
   "cell_type": "code",
   "execution_count": null,
   "id": "6f6464fa",
   "metadata": {},
   "outputs": [],
   "source": []
  }
 ],
 "metadata": {
  "kernelspec": {
   "display_name": "Python 3",
   "language": "python",
   "name": "python3"
  },
  "language_info": {
   "codemirror_mode": {
    "name": "ipython",
    "version": 3
   },
   "file_extension": ".py",
   "mimetype": "text/x-python",
   "name": "python",
   "nbconvert_exporter": "python",
   "pygments_lexer": "ipython3",
   "version": "3.8.10"
  }
 },
 "nbformat": 4,
 "nbformat_minor": 5
}
