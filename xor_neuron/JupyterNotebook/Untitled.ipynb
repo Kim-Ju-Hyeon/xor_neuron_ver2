{
 "cells": [
  {
   "cell_type": "code",
   "execution_count": 5,
   "id": "eff2e87d",
   "metadata": {},
   "outputs": [],
   "source": [
    "temp = 'orig_resnet18'"
   ]
  },
  {
   "cell_type": "code",
   "execution_count": 4,
   "id": "d305bdc4",
   "metadata": {},
   "outputs": [
    {
     "data": {
      "text/plain": [
       "['org', 'resnet18']"
      ]
     },
     "execution_count": 4,
     "metadata": {},
     "output_type": "execute_result"
    }
   ],
   "source": [
    "temp.split('_') in ''"
   ]
  },
  {
   "cell_type": "code",
   "execution_count": 6,
   "id": "36040293",
   "metadata": {},
   "outputs": [
    {
     "data": {
      "text/plain": [
       "True"
      ]
     },
     "execution_count": 6,
     "metadata": {},
     "output_type": "execute_result"
    }
   ],
   "source": [
    "'orig' in temp"
   ]
  },
  {
   "cell_type": "code",
   "execution_count": null,
   "id": "ac99a977",
   "metadata": {},
   "outputs": [],
   "source": []
  }
 ],
 "metadata": {
  "kernelspec": {
   "display_name": "Python 3 (ipykernel)",
   "language": "python",
   "name": "python3"
  },
  "language_info": {
   "codemirror_mode": {
    "name": "ipython",
    "version": 3
   },
   "file_extension": ".py",
   "mimetype": "text/x-python",
   "name": "python",
   "nbconvert_exporter": "python",
   "pygments_lexer": "ipython3",
   "version": "3.8.12"
  }
 },
 "nbformat": 4,
 "nbformat_minor": 5
}
