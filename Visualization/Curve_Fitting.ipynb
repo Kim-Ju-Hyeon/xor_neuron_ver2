{
 "cells": [
  {
   "cell_type": "code",
   "execution_count": 1,
   "metadata": {},
   "outputs": [],
   "source": [
    "import sys\n",
    "\n",
    "sys.path.append('../xor_neuron')"
   ]
  },
  {
   "cell_type": "code",
   "execution_count": 2,
   "metadata": {},
   "outputs": [],
   "source": [
    "import matplotlib.pyplot as plt\n",
    "import pickle\n",
    "from glob import glob\n",
    "import os\n",
    "import yaml\n",
    "from easydict import EasyDict as edict\n",
    "import numpy as np\n",
    "import torch\n",
    "from scipy.signal import convolve2d, fftconvolve, convolve\n",
    "from scipy.stats import multivariate_normal\n",
    "from scipy.optimize import curve_fit\n",
    "from scipy.spatial.distance import cosine\n",
    "\n",
    "import matplotlib as mpl\n",
    "from matplotlib import gridspec\n",
    "import matplotlib.colors as colors\n",
    "from mpl_toolkits.axes_grid1 import make_axes_locatable\n",
    "from matplotlib.backends.backend_pdf import PdfPages\n",
    "\n",
    "from model import *\n",
    "from utils.train_helper import save_outphase, make_mask, load_model\n",
    "\n",
    "from torch import nn\n",
    "\n",
    "import pandas as pd"
   ]
  },
  {
   "cell_type": "code",
   "execution_count": 3,
   "metadata": {},
   "outputs": [],
   "source": [
    "def quad_func(x, c):\n",
    "    y = np.zeros((x.shape[0],1))\n",
    "    for i in range(x.shape[0]):\n",
    "        y[i] = c[0]*x[i,0]**2 + c[1]*x[i,1]**2 + c[2]*x[i,0]*x[i,1] + c[3]*x[i,0] + c[4]*x[i,1] + c[5]\n",
    "    return y\n",
    "\n",
    "def quad_scalar_func(x, c0, c1, c2, c3, c4, c5):\n",
    "    return c0*x[0]**2 + c1*x[1]**2 + c2*x[0]*x[1] + c3*x[0] + c4*x[1] + c5"
   ]
  },
  {
   "cell_type": "code",
   "execution_count": 46,
   "metadata": {},
   "outputs": [
    {
     "data": {
      "text/plain": [
       "['../rtx90_exp/exp_2/2D_ARG/Conv/MNIST/ComplexNeuronConv_1_mnist_060655',\n",
       " '../rtx90_exp/exp_2/2D_ARG/Conv/MNIST/ComplexNeuronConv_1_mnist_060658',\n",
       " '../rtx90_exp/exp_2/2D_ARG/Conv/MNIST/ComplexNeuronConv_2_mnist_035702',\n",
       " '../rtx90_exp/exp_2/2D_ARG/Conv/MNIST/ComplexNeuronConv_2_mnist_042205',\n",
       " '../rtx90_exp/exp_2/2D_ARG/Conv/MNIST/ComplexNeuronConv_3_mnist_034718',\n",
       " '../rtx90_exp/exp_2/2D_ARG/Conv/MNIST/ComplexNeuronConv_3_mnist_052518',\n",
       " '../rtx90_exp/exp_2/2D_ARG/Conv/MNIST/ComplexNeuronConv_4_mnist_031048',\n",
       " '../rtx90_exp/exp_2/2D_ARG/Conv/MNIST/ComplexNeuronConv_4_mnist_050629',\n",
       " '../rtx90_exp/exp_2/2D_ARG/Conv/MNIST/ComplexNeuronConv_5_mnist_031012',\n",
       " '../rtx90_exp/exp_2/2D_ARG/Conv/MNIST/ComplexNeuronConv_5_mnist_032008',\n",
       " '../rtx90_exp/exp_2/2D_ARG/Conv/MNIST/ComplexNeuronConv_6_mnist_012245',\n",
       " '../rtx90_exp/exp_2/2D_ARG/Conv/MNIST/ComplexNeuronConv_6_mnist_035227',\n",
       " '../rtx90_exp/exp_2/2D_ARG/Conv/MNIST/ComplexNeuronConv_7_mnist_230945']"
      ]
     },
     "execution_count": 46,
     "metadata": {},
     "output_type": "execute_result"
    }
   ],
   "source": [
    "conv_mnist = glob('../rtx90_exp/exp_2/2D_ARG/Conv/MNIST/*')\n",
    "conv_mnist.sort(key=os.path.abspath)\n",
    "conv_mnist"
   ]
  },
  {
   "cell_type": "code",
   "execution_count": 47,
   "metadata": {},
   "outputs": [
    {
     "data": {
      "text/plain": [
       "['../exp_2/2D_ARG/Conv/MNIST/ComplexNeuronConv_1_mnist_090311',\n",
       " '../exp_2/2D_ARG/Conv/MNIST/ComplexNeuronConv_1_mnist_121129',\n",
       " '../exp_2/2D_ARG/Conv/MNIST/ComplexNeuronConv_2_mnist_022015',\n",
       " '../exp_2/2D_ARG/Conv/MNIST/ComplexNeuronConv_2_mnist_072833',\n",
       " '../exp_2/2D_ARG/Conv/MNIST/ComplexNeuronConv_3_mnist_004447',\n",
       " '../exp_2/2D_ARG/Conv/MNIST/ComplexNeuronConv_3_mnist_174106',\n",
       " '../exp_2/2D_ARG/Conv/MNIST/ComplexNeuronConv_4_mnist_082319',\n",
       " '../exp_2/2D_ARG/Conv/MNIST/ComplexNeuronConv_4_mnist_190612',\n",
       " '../exp_2/2D_ARG/Conv/MNIST/ComplexNeuronConv_5_mnist_202016',\n",
       " '../exp_2/2D_ARG/Conv/MNIST/ComplexNeuronConv_6_mnist_134941',\n",
       " '../exp_2/2D_ARG/Conv/MNIST/ComplexNeuronConv_7_mnist_053106']"
      ]
     },
     "execution_count": 47,
     "metadata": {},
     "output_type": "execute_result"
    }
   ],
   "source": [
    "conv_mnist2 = glob('../exp_2/2D_ARG/Conv/MNIST/*')\n",
    "conv_mnist2.sort(key=os.path.abspath)\n",
    "conv_mnist2"
   ]
  },
  {
   "cell_type": "code",
   "execution_count": 48,
   "metadata": {},
   "outputs": [
    {
     "data": {
      "text/plain": [
       "['../exp/xor_neuron_conv_mnist/ComplexNeuronConv_001_mnist_2021-Apr-19-06-13-51',\n",
       " '../exp/xor_neuron_conv_mnist/ComplexNeuronConv_001_mnist_2021-Apr-19-06-13-54',\n",
       " '../exp/xor_neuron_conv_mnist/ComplexNeuronConv_001_mnist_2021-Apr-19-06-13-57']"
      ]
     },
     "execution_count": 48,
     "metadata": {},
     "output_type": "execute_result"
    }
   ],
   "source": [
    "conv_mnist3 = glob('../exp/xor_neuron_conv_mnist/*')\n",
    "conv_mnist3.sort(key=os.path.abspath)\n",
    "conv_mnist3"
   ]
  },
  {
   "cell_type": "code",
   "execution_count": 49,
   "metadata": {},
   "outputs": [
    {
     "data": {
      "text/plain": [
       "['../rtx90_exp/exp_2/2D_ARG/Conv/MNIST/ComplexNeuronConv_1_mnist_060655',\n",
       " '../rtx90_exp/exp_2/2D_ARG/Conv/MNIST/ComplexNeuronConv_1_mnist_060658',\n",
       " '../rtx90_exp/exp_2/2D_ARG/Conv/MNIST/ComplexNeuronConv_2_mnist_035702',\n",
       " '../rtx90_exp/exp_2/2D_ARG/Conv/MNIST/ComplexNeuronConv_2_mnist_042205',\n",
       " '../rtx90_exp/exp_2/2D_ARG/Conv/MNIST/ComplexNeuronConv_3_mnist_034718',\n",
       " '../rtx90_exp/exp_2/2D_ARG/Conv/MNIST/ComplexNeuronConv_3_mnist_052518',\n",
       " '../rtx90_exp/exp_2/2D_ARG/Conv/MNIST/ComplexNeuronConv_4_mnist_031048',\n",
       " '../rtx90_exp/exp_2/2D_ARG/Conv/MNIST/ComplexNeuronConv_4_mnist_050629',\n",
       " '../rtx90_exp/exp_2/2D_ARG/Conv/MNIST/ComplexNeuronConv_5_mnist_031012',\n",
       " '../rtx90_exp/exp_2/2D_ARG/Conv/MNIST/ComplexNeuronConv_5_mnist_032008',\n",
       " '../rtx90_exp/exp_2/2D_ARG/Conv/MNIST/ComplexNeuronConv_6_mnist_012245',\n",
       " '../rtx90_exp/exp_2/2D_ARG/Conv/MNIST/ComplexNeuronConv_6_mnist_035227',\n",
       " '../rtx90_exp/exp_2/2D_ARG/Conv/MNIST/ComplexNeuronConv_7_mnist_230945',\n",
       " '../exp_2/2D_ARG/Conv/MNIST/ComplexNeuronConv_1_mnist_090311',\n",
       " '../exp_2/2D_ARG/Conv/MNIST/ComplexNeuronConv_1_mnist_121129',\n",
       " '../exp_2/2D_ARG/Conv/MNIST/ComplexNeuronConv_2_mnist_022015',\n",
       " '../exp_2/2D_ARG/Conv/MNIST/ComplexNeuronConv_2_mnist_072833',\n",
       " '../exp_2/2D_ARG/Conv/MNIST/ComplexNeuronConv_3_mnist_004447',\n",
       " '../exp_2/2D_ARG/Conv/MNIST/ComplexNeuronConv_3_mnist_174106',\n",
       " '../exp_2/2D_ARG/Conv/MNIST/ComplexNeuronConv_4_mnist_082319',\n",
       " '../exp_2/2D_ARG/Conv/MNIST/ComplexNeuronConv_4_mnist_190612',\n",
       " '../exp_2/2D_ARG/Conv/MNIST/ComplexNeuronConv_5_mnist_202016',\n",
       " '../exp_2/2D_ARG/Conv/MNIST/ComplexNeuronConv_6_mnist_134941',\n",
       " '../exp/xor_neuron_conv_mnist/ComplexNeuronConv_001_mnist_2021-Apr-19-06-13-54']"
      ]
     },
     "execution_count": 49,
     "metadata": {},
     "output_type": "execute_result"
    }
   ],
   "source": [
    "conv_mnist = conv_mnist + conv_mnist2[:-1] + conv_mnist3[1:2]\n",
    "conv_mnist"
   ]
  },
  {
   "cell_type": "code",
   "execution_count": 50,
   "metadata": {},
   "outputs": [
    {
     "data": {
      "text/plain": [
       "24"
      ]
     },
     "execution_count": 50,
     "metadata": {},
     "output_type": "execute_result"
    }
   ],
   "source": [
    "len(conv_mnist)"
   ]
  },
  {
   "cell_type": "code",
   "execution_count": 51,
   "metadata": {},
   "outputs": [
    {
     "data": {
      "text/plain": [
       "['../rtx90_exp/exp_2/2D_ARG/Conv/CIFAR10/ComplexNeuronConv_1_cifar10_060701',\n",
       " '../rtx90_exp/exp_2/2D_ARG/Conv/CIFAR10/ComplexNeuronConv_2_cifar10_021924',\n",
       " '../rtx90_exp/exp_2/2D_ARG/Conv/CIFAR10/ComplexNeuronConv_2_cifar10_061113',\n",
       " '../rtx90_exp/exp_2/2D_ARG/Conv/CIFAR10/ComplexNeuronConv_3_cifar10_023433',\n",
       " '../rtx90_exp/exp_2/2D_ARG/Conv/CIFAR10/ComplexNeuronConv_3_cifar10_223712',\n",
       " '../rtx90_exp/exp_2/2D_ARG/Conv/CIFAR10/ComplexNeuronConv_4_cifar10_185527',\n",
       " '../rtx90_exp/exp_2/2D_ARG/Conv/CIFAR10/ComplexNeuronConv_4_cifar10_230510',\n",
       " '../rtx90_exp/exp_2/2D_ARG/Conv/CIFAR10/ComplexNeuronConv_5_cifar10_152006',\n",
       " '../rtx90_exp/exp_2/2D_ARG/Conv/CIFAR10/ComplexNeuronConv_5_cifar10_192000',\n",
       " '../rtx90_exp/exp_2/2D_ARG/Conv/CIFAR10/ComplexNeuronConv_6_cifar10_113035']"
      ]
     },
     "execution_count": 51,
     "metadata": {},
     "output_type": "execute_result"
    }
   ],
   "source": [
    "conv_cifar = glob('../rtx90_exp/exp_2/2D_ARG/Conv/CIFAR10/*')\n",
    "conv_cifar.sort(key=os.path.abspath)\n",
    "conv_cifar"
   ]
  },
  {
   "cell_type": "code",
   "execution_count": 52,
   "metadata": {},
   "outputs": [
    {
     "data": {
      "text/plain": [
       "['../exp/2D_arg/CIFAR10/ComplexNeuronConv_1_cifar10_0759',\n",
       " '../exp/2D_arg/CIFAR10/ComplexNeuronConv_2_cifar10_0759',\n",
       " '../exp/2D_arg/CIFAR10/ComplexNeuronConv_3_cifar10_0759',\n",
       " '../exp/2D_arg/CIFAR10/ComplexNeuronConv_4_cifar10_0759',\n",
       " '../exp/2D_arg/CIFAR10/ComplexNeuronConv_5_cifar10_0759',\n",
       " '../exp/2D_arg/CIFAR10/ComplexNeuronConv_6_cifar10_0759',\n",
       " '../exp/2D_arg/CIFAR10/ComplexNeuronConv_7_cifar10_0759']"
      ]
     },
     "execution_count": 52,
     "metadata": {},
     "output_type": "execute_result"
    }
   ],
   "source": [
    "conv_cifar2 = glob('../exp/2D_arg/CIFAR10/*')\n",
    "conv_cifar2.sort(key=os.path.abspath)\n",
    "conv_cifar2"
   ]
  },
  {
   "cell_type": "code",
   "execution_count": 53,
   "metadata": {},
   "outputs": [
    {
     "data": {
      "text/plain": [
       "['../exp/xor_neuron_conv_cifar/ComplexNeuronConv_001_cifar10_2021-Apr-20-07-17-22',\n",
       " '../exp/xor_neuron_conv_cifar/ComplexNeuronConv_001_cifar10_2021-Apr-20-07-17-25',\n",
       " '../exp/xor_neuron_conv_cifar/ComplexNeuronConv_001_cifar10_2021-Apr-21-02-58-09']"
      ]
     },
     "execution_count": 53,
     "metadata": {},
     "output_type": "execute_result"
    }
   ],
   "source": [
    "conv_cifar3 = glob('../exp/xor_neuron_conv_cifar/*')\n",
    "conv_cifar3.sort(key=os.path.abspath)\n",
    "conv_cifar3"
   ]
  },
  {
   "cell_type": "code",
   "execution_count": 54,
   "metadata": {},
   "outputs": [
    {
     "data": {
      "text/plain": [
       "['../exp_2/2D_ARG/Conv/CIFAR10/ComplexNeuronConv_1_cifar10_090308',\n",
       " '../exp_2/2D_ARG/Conv/CIFAR10/ComplexNeuronConv_1_cifar10_121126',\n",
       " '../exp_2/2D_ARG/Conv/CIFAR10/ComplexNeuronConv_2_cifar10_060251',\n",
       " '../exp_2/2D_ARG/Conv/CIFAR10/ComplexNeuronConv_2_cifar10_205448',\n",
       " '../exp_2/2D_ARG/Conv/CIFAR10/ComplexNeuronConv_3_cifar10_052629',\n",
       " '../exp_2/2D_ARG/Conv/CIFAR10/ComplexNeuronConv_4_cifar10_143159',\n",
       " '../exp_2/2D_ARG/Conv/CIFAR10/ComplexNeuronConv_5_cifar10_231156',\n",
       " '../exp_2/2D_ARG/Conv/CIFAR10/ComplexNeuronConv_6_cifar10_075233',\n",
       " '../exp_2/2D_ARG/Conv/CIFAR10/ComplexNeuronConv_7_cifar10_163216',\n",
       " '../exp_2/2D_ARG/Conv/CIFAR10/ComplexNeuronConv_8_cifar10_011003']"
      ]
     },
     "execution_count": 54,
     "metadata": {},
     "output_type": "execute_result"
    }
   ],
   "source": [
    "conv_cifar4 = glob('../exp_2/2D_ARG/Conv/CIFAR10/*')\n",
    "conv_cifar4.sort(key=os.path.abspath)\n",
    "conv_cifar4"
   ]
  },
  {
   "cell_type": "code",
   "execution_count": 55,
   "metadata": {},
   "outputs": [
    {
     "data": {
      "text/plain": [
       "24"
      ]
     },
     "execution_count": 55,
     "metadata": {},
     "output_type": "execute_result"
    }
   ],
   "source": [
    "conv_cifar = conv_cifar+conv_cifar2+conv_cifar4[:7]\n",
    "len(conv_cifar)"
   ]
  },
  {
   "cell_type": "code",
   "execution_count": 56,
   "metadata": {},
   "outputs": [
    {
     "data": {
      "text/plain": [
       "24"
      ]
     },
     "execution_count": 56,
     "metadata": {},
     "output_type": "execute_result"
    }
   ],
   "source": [
    "mlp_mnist = glob('../exp_2/2D_ARG/MLP/MNIST/*')\n",
    "mlp_mnist.sort(key=os.path.abspath)\n",
    "len(mlp_mnist)"
   ]
  },
  {
   "cell_type": "code",
   "execution_count": 57,
   "metadata": {},
   "outputs": [
    {
     "data": {
      "text/plain": [
       "24"
      ]
     },
     "execution_count": 57,
     "metadata": {},
     "output_type": "execute_result"
    }
   ],
   "source": [
    "mlp_cifar = glob('../exp_2/2D_ARG/MLP/CIFAR10/*')\n",
    "mlp_cifar.sort(key=os.path.abspath)\n",
    "len(mlp_cifar)"
   ]
  },
  {
   "cell_type": "code",
   "execution_count": 58,
   "metadata": {},
   "outputs": [],
   "source": [
    "dirs_dict = {'conv_cifar':conv_cifar,\n",
    "            'conv_mnist':conv_mnist,\n",
    "            'mlp_cifar':mlp_cifar,\n",
    "            'mlp_mnist':mlp_mnist}"
   ]
  },
  {
   "cell_type": "code",
   "execution_count": 62,
   "metadata": {},
   "outputs": [],
   "source": [
    "        phase1_file = glob(dd + '/train_stats_phase1.p')[0]\n",
    "        phase1_data = pickle.load(open(phase1_file, 'rb'))"
   ]
  },
  {
   "cell_type": "code",
   "execution_count": 66,
   "metadata": {},
   "outputs": [
    {
     "data": {
      "text/plain": [
       "0.9823"
      ]
     },
     "execution_count": 66,
     "metadata": {},
     "output_type": "execute_result"
    }
   ],
   "source": [
    "np.array(phase1_data['val_acc']).max()"
   ]
  },
  {
   "cell_type": "code",
   "execution_count": 67,
   "metadata": {},
   "outputs": [
    {
     "data": {
      "text/plain": [
       "0.08290558507665992"
      ]
     },
     "execution_count": 67,
     "metadata": {},
     "output_type": "execute_result"
    }
   ],
   "source": [
    "np.array(phase1_data['val_loss']).min()"
   ]
  },
  {
   "cell_type": "code",
   "execution_count": 75,
   "metadata": {},
   "outputs": [
    {
     "name": "stdout",
     "output_type": "stream",
     "text": [
      "conv_cifar\n",
      "../rtx90_exp/exp_2/2D_ARG/Conv/CIFAR10/ComplexNeuronConv_1_cifar10_060701\n",
      "../rtx90_exp/exp_2/2D_ARG/Conv/CIFAR10/ComplexNeuronConv_2_cifar10_021924\n",
      "../rtx90_exp/exp_2/2D_ARG/Conv/CIFAR10/ComplexNeuronConv_2_cifar10_061113\n",
      "../rtx90_exp/exp_2/2D_ARG/Conv/CIFAR10/ComplexNeuronConv_3_cifar10_023433\n",
      "../rtx90_exp/exp_2/2D_ARG/Conv/CIFAR10/ComplexNeuronConv_3_cifar10_223712\n",
      "../rtx90_exp/exp_2/2D_ARG/Conv/CIFAR10/ComplexNeuronConv_4_cifar10_185527\n",
      "../rtx90_exp/exp_2/2D_ARG/Conv/CIFAR10/ComplexNeuronConv_4_cifar10_230510\n",
      "../rtx90_exp/exp_2/2D_ARG/Conv/CIFAR10/ComplexNeuronConv_5_cifar10_152006\n",
      "../rtx90_exp/exp_2/2D_ARG/Conv/CIFAR10/ComplexNeuronConv_5_cifar10_192000\n",
      "../rtx90_exp/exp_2/2D_ARG/Conv/CIFAR10/ComplexNeuronConv_6_cifar10_113035\n",
      "../exp/2D_arg/CIFAR10/ComplexNeuronConv_1_cifar10_0759\n",
      "../exp/2D_arg/CIFAR10/ComplexNeuronConv_2_cifar10_0759\n",
      "../exp/2D_arg/CIFAR10/ComplexNeuronConv_3_cifar10_0759\n",
      "../exp/2D_arg/CIFAR10/ComplexNeuronConv_4_cifar10_0759\n",
      "../exp/2D_arg/CIFAR10/ComplexNeuronConv_5_cifar10_0759\n",
      "../exp/2D_arg/CIFAR10/ComplexNeuronConv_6_cifar10_0759\n",
      "../exp/2D_arg/CIFAR10/ComplexNeuronConv_7_cifar10_0759\n",
      "../exp_2/2D_ARG/Conv/CIFAR10/ComplexNeuronConv_1_cifar10_090308\n",
      "../exp_2/2D_ARG/Conv/CIFAR10/ComplexNeuronConv_1_cifar10_121126\n",
      "../exp_2/2D_ARG/Conv/CIFAR10/ComplexNeuronConv_2_cifar10_060251\n",
      "../exp_2/2D_ARG/Conv/CIFAR10/ComplexNeuronConv_2_cifar10_205448\n",
      "../exp_2/2D_ARG/Conv/CIFAR10/ComplexNeuronConv_3_cifar10_052629\n",
      "../exp_2/2D_ARG/Conv/CIFAR10/ComplexNeuronConv_4_cifar10_143159\n",
      "../exp_2/2D_ARG/Conv/CIFAR10/ComplexNeuronConv_5_cifar10_231156\n",
      "conv_mnist\n",
      "../rtx90_exp/exp_2/2D_ARG/Conv/MNIST/ComplexNeuronConv_1_mnist_060655\n",
      "../rtx90_exp/exp_2/2D_ARG/Conv/MNIST/ComplexNeuronConv_1_mnist_060658\n",
      "../rtx90_exp/exp_2/2D_ARG/Conv/MNIST/ComplexNeuronConv_2_mnist_035702\n",
      "../rtx90_exp/exp_2/2D_ARG/Conv/MNIST/ComplexNeuronConv_2_mnist_042205\n",
      "../rtx90_exp/exp_2/2D_ARG/Conv/MNIST/ComplexNeuronConv_3_mnist_034718\n",
      "../rtx90_exp/exp_2/2D_ARG/Conv/MNIST/ComplexNeuronConv_3_mnist_052518\n",
      "../rtx90_exp/exp_2/2D_ARG/Conv/MNIST/ComplexNeuronConv_4_mnist_031048\n",
      "../rtx90_exp/exp_2/2D_ARG/Conv/MNIST/ComplexNeuronConv_4_mnist_050629\n",
      "../rtx90_exp/exp_2/2D_ARG/Conv/MNIST/ComplexNeuronConv_5_mnist_031012\n",
      "../rtx90_exp/exp_2/2D_ARG/Conv/MNIST/ComplexNeuronConv_5_mnist_032008\n",
      "../rtx90_exp/exp_2/2D_ARG/Conv/MNIST/ComplexNeuronConv_6_mnist_012245\n",
      "../rtx90_exp/exp_2/2D_ARG/Conv/MNIST/ComplexNeuronConv_6_mnist_035227\n",
      "../rtx90_exp/exp_2/2D_ARG/Conv/MNIST/ComplexNeuronConv_7_mnist_230945\n",
      "../exp_2/2D_ARG/Conv/MNIST/ComplexNeuronConv_1_mnist_090311\n",
      "../exp_2/2D_ARG/Conv/MNIST/ComplexNeuronConv_1_mnist_121129\n",
      "../exp_2/2D_ARG/Conv/MNIST/ComplexNeuronConv_2_mnist_022015\n",
      "../exp_2/2D_ARG/Conv/MNIST/ComplexNeuronConv_2_mnist_072833\n",
      "../exp_2/2D_ARG/Conv/MNIST/ComplexNeuronConv_3_mnist_004447\n",
      "../exp_2/2D_ARG/Conv/MNIST/ComplexNeuronConv_3_mnist_174106\n",
      "../exp_2/2D_ARG/Conv/MNIST/ComplexNeuronConv_4_mnist_082319\n",
      "../exp_2/2D_ARG/Conv/MNIST/ComplexNeuronConv_4_mnist_190612\n",
      "../exp_2/2D_ARG/Conv/MNIST/ComplexNeuronConv_5_mnist_202016\n",
      "../exp_2/2D_ARG/Conv/MNIST/ComplexNeuronConv_6_mnist_134941\n",
      "../exp/xor_neuron_conv_mnist/ComplexNeuronConv_001_mnist_2021-Apr-19-06-13-54\n",
      "mlp_cifar\n",
      "../exp_2/2D_ARG/MLP/CIFAR10/ComplexNeuronMLP_10_cifar10_002707\n",
      "../exp_2/2D_ARG/MLP/CIFAR10/ComplexNeuronMLP_11_cifar10_072723\n",
      "../exp_2/2D_ARG/MLP/CIFAR10/ComplexNeuronMLP_12_cifar10_143402\n",
      "../exp_2/2D_ARG/MLP/CIFAR10/ComplexNeuronMLP_13_cifar10_213639\n",
      "../exp_2/2D_ARG/MLP/CIFAR10/ComplexNeuronMLP_14_cifar10_044240\n",
      "../exp_2/2D_ARG/MLP/CIFAR10/ComplexNeuronMLP_15_cifar10_114021\n",
      "../exp_2/2D_ARG/MLP/CIFAR10/ComplexNeuronMLP_16_cifar10_184421\n",
      "../exp_2/2D_ARG/MLP/CIFAR10/ComplexNeuronMLP_17_cifar10_014329\n",
      "../exp_2/2D_ARG/MLP/CIFAR10/ComplexNeuronMLP_18_cifar10_084025\n",
      "../exp_2/2D_ARG/MLP/CIFAR10/ComplexNeuronMLP_19_cifar10_154009\n",
      "../exp_2/2D_ARG/MLP/CIFAR10/ComplexNeuronMLP_1_cifar10_085641\n",
      "../exp_2/2D_ARG/MLP/CIFAR10/ComplexNeuronMLP_20_cifar10_224419\n",
      "../exp_2/2D_ARG/MLP/CIFAR10/ComplexNeuronMLP_21_cifar10_054656\n",
      "../exp_2/2D_ARG/MLP/CIFAR10/ComplexNeuronMLP_22_cifar10_124644\n",
      "../exp_2/2D_ARG/MLP/CIFAR10/ComplexNeuronMLP_23_cifar10_194904\n",
      "../exp_2/2D_ARG/MLP/CIFAR10/ComplexNeuronMLP_24_cifar10_023622\n",
      "../exp_2/2D_ARG/MLP/CIFAR10/ComplexNeuronMLP_2_cifar10_160229\n",
      "../exp_2/2D_ARG/MLP/CIFAR10/ComplexNeuronMLP_3_cifar10_231237\n",
      "../exp_2/2D_ARG/MLP/CIFAR10/ComplexNeuronMLP_4_cifar10_062252\n",
      "../exp_2/2D_ARG/MLP/CIFAR10/ComplexNeuronMLP_5_cifar10_132711\n",
      "../exp_2/2D_ARG/MLP/CIFAR10/ComplexNeuronMLP_6_cifar10_203308\n",
      "../exp_2/2D_ARG/MLP/CIFAR10/ComplexNeuronMLP_7_cifar10_033151\n",
      "../exp_2/2D_ARG/MLP/CIFAR10/ComplexNeuronMLP_8_cifar10_102454\n",
      "../exp_2/2D_ARG/MLP/CIFAR10/ComplexNeuronMLP_9_cifar10_172652\n",
      "mlp_mnist\n",
      "../exp_2/2D_ARG/MLP/MNIST/ComplexNeuronMLP_10_mnist_082300\n",
      "../exp_2/2D_ARG/MLP/MNIST/ComplexNeuronMLP_11_mnist_181650\n",
      "../exp_2/2D_ARG/MLP/MNIST/ComplexNeuronMLP_12_mnist_044640\n",
      "../exp_2/2D_ARG/MLP/MNIST/ComplexNeuronMLP_13_mnist_151311\n",
      "../exp_2/2D_ARG/MLP/MNIST/ComplexNeuronMLP_14_mnist_013949\n",
      "../exp_2/2D_ARG/MLP/MNIST/ComplexNeuronMLP_15_mnist_121006\n",
      "../exp_2/2D_ARG/MLP/MNIST/ComplexNeuronMLP_16_mnist_222420\n",
      "../exp_2/2D_ARG/MLP/MNIST/ComplexNeuronMLP_17_mnist_084440\n",
      "../exp_2/2D_ARG/MLP/MNIST/ComplexNeuronMLP_18_mnist_191522\n",
      "../exp_2/2D_ARG/MLP/MNIST/ComplexNeuronMLP_19_mnist_044627\n",
      "../exp_2/2D_ARG/MLP/MNIST/ComplexNeuronMLP_1_mnist_085638\n",
      "../exp_2/2D_ARG/MLP/MNIST/ComplexNeuronMLP_20_mnist_145913\n",
      "../exp_2/2D_ARG/MLP/MNIST/ComplexNeuronMLP_21_mnist_010047\n",
      "../exp_2/2D_ARG/MLP/MNIST/ComplexNeuronMLP_22_mnist_115655\n",
      "../exp_2/2D_ARG/MLP/MNIST/ComplexNeuronMLP_23_mnist_222753\n",
      "../exp_2/2D_ARG/MLP/MNIST/ComplexNeuronMLP_24_mnist_084914\n",
      "../exp_2/2D_ARG/MLP/MNIST/ComplexNeuronMLP_2_mnist_195643\n",
      "../exp_2/2D_ARG/MLP/MNIST/ComplexNeuronMLP_3_mnist_063617\n",
      "../exp_2/2D_ARG/MLP/MNIST/ComplexNeuronMLP_4_mnist_172015\n",
      "../exp_2/2D_ARG/MLP/MNIST/ComplexNeuronMLP_5_mnist_040833\n",
      "../exp_2/2D_ARG/MLP/MNIST/ComplexNeuronMLP_6_mnist_143015\n",
      "../exp_2/2D_ARG/MLP/MNIST/ComplexNeuronMLP_7_mnist_010356\n",
      "../exp_2/2D_ARG/MLP/MNIST/ComplexNeuronMLP_8_mnist_110252\n",
      "../exp_2/2D_ARG/MLP/MNIST/ComplexNeuronMLP_9_mnist_213937\n"
     ]
    }
   ],
   "source": [
    "mse_loss = nn.MSELoss()\n",
    "\n",
    "sheet = {}\n",
    "\n",
    "for exp in list(dirs_dict.keys()):\n",
    "    print(exp)\n",
    "    dirs = dirs_dict[exp]\n",
    "    \n",
    "    c_0 = []\n",
    "    c_1 = []\n",
    "    c_2 = []\n",
    "    c_3 = []\n",
    "    c_4 = []\n",
    "    c_5 = []\n",
    "    cosine_distance = []\n",
    "    losses = []\n",
    "    \n",
    "    val_acc_list = []\n",
    "    val_loss_list = []\n",
    "\n",
    "    index = []\n",
    "\n",
    "    for dd in dirs:\n",
    "        print(dd)\n",
    "        config_file = glob(dd + '/*.yaml')[0]\n",
    "        config = edict(yaml.load(open(config_file, 'r'), Loader=yaml.FullLoader))\n",
    "        \n",
    "        if 'rtx90_exp' in dd.split('/'):\n",
    "            config.save_dir = '../rtx90_exp/' + config.save_dir[3:]\n",
    "            config.exp_dir = '../rtx90_exp/' + config.exp_dir[3:]\n",
    "            config.model_save = '../rtx90_exp/' + config.model_save[3:]\n",
    "            \n",
    "        phase1_file = glob(dd + '/train_stats_phase1.p')[0]\n",
    "        phase1_data = pickle.load(open(phase1_file, 'rb'))\n",
    "                \n",
    "        val_acc = np.array(phase1_data['val_acc']).max()\n",
    "        val_loss = np.array(phase1_data['val_loss']).min()\n",
    "        \n",
    "        val_acc_list.append(val_acc)\n",
    "        val_loss_list.append(val_loss)\n",
    "            \n",
    "\n",
    "        index.append(config.seed)\n",
    "\n",
    "        model_phase1 = InnerNet(config)\n",
    "        model_snapshot = torch.load(config.model_save + config.train.best_model, map_location=torch.device('cpu'))\n",
    "        for key in list(model_snapshot['model'].keys()):\n",
    "            model_snapshot['model'][key.replace('0', 'inner_net')] = model_snapshot['model'].pop(key)\n",
    "\n",
    "        model_phase1.load_state_dict(model_snapshot[\"model\"], strict=True)\n",
    "        model_phase1.eval()\n",
    "\n",
    "        nb = 101\n",
    "        x = np.linspace(-5, 5, nb)\n",
    "        y = np.linspace(-5, 5, nb)\n",
    "        xv, yv = np.meshgrid(x, y)\n",
    "        xy = np.vstack([xv.reshape(-1), yv.reshape(-1)]).T\n",
    "        \n",
    "        mvn = multivariate_normal(mean=[0, 0], cov=[[1/4, 0], [0, 1/4]])\n",
    "        gaussian_kernel = mvn.pdf(xy).reshape(nb, nb)\n",
    "        gaussian_kernel /= gaussian_kernel.sum()\n",
    "\n",
    "        if config.model.inner_net == 'mlp':\n",
    "            out_phase1 = model_phase1.inner_net(torch.Tensor(xy))\n",
    "            out_phase1 = out_phase1.data.numpy().reshape(-1,1)\n",
    "\n",
    "        elif config.model.inner_net == 'conv':\n",
    "            sqrt_batch_size = np.int(np.sqrt(xy.shape[0]))\n",
    "            out = xy.T.reshape(1, config.model.arg_in_dim, sqrt_batch_size, sqrt_batch_size)\n",
    "\n",
    "            out_phase1 = model_phase1.inner_net(torch.Tensor(out))\n",
    "            out_phase1 = out_phase1.data.numpy().reshape(-1,1)\n",
    "\n",
    "        input2innerAll = glob(dd+'/in2cells.p')\n",
    "        if len(input2innerAll) == 0:\n",
    "            input2innerAll = glob(dd+'/model_save/in2cells.p')\n",
    "            \n",
    "        input2innerAll = input2innerAll[0]\n",
    "        input2innerAll = pickle.load(open(input2innerAll, 'rb'))\n",
    "        input2innerAll = np.array(input2innerAll[0])\n",
    "        input2innerAll = np.moveaxis(input2innerAll, -1, 0)\n",
    "        input2innerAll = input2innerAll.reshape((config.model.arg_in_dim, -1))\n",
    "\n",
    "        xedges = yedges = np.arange(-5.05,5.1,0.1)\n",
    "        pdf, _, _ = np.histogram2d(input2innerAll[0], input2innerAll[1], bins=(xedges, yedges))\n",
    "        pdf = convolve2d(pdf, gaussian_kernel, mode='same')\n",
    "        pdf /= sum(pdf.flatten())\n",
    "\n",
    "        threshold = 0.0005\n",
    "        while True:\n",
    "            row, col = np.where(pdf > threshold)\n",
    "            if sum(pdf[row, col]) > 0.9:\n",
    "                break\n",
    "            else:\n",
    "                threshold -= 0.00001\n",
    "\n",
    "        mask = np.empty((101, 101))\n",
    "        mask[:] = np.nan\n",
    "        mask[row, col] = 1\n",
    "\n",
    "        xv_ = xv.reshape(-1)\n",
    "        yv_ = yv.reshape(-1)\n",
    "\n",
    "        out_phase1 = out_phase1.reshape(-1) * mask.reshape(-1)\n",
    "        nan_list = np.argwhere(np.isnan(out_phase1))\n",
    "\n",
    "        xv_ = xv_[np.logical_not(np.isnan(xv_*out_phase1))]\n",
    "        yv_ = yv_[np.logical_not(np.isnan(yv_*out_phase1))]\n",
    "        out_phase1 = out_phase1[np.logical_not(np.isnan(out_phase1))]\n",
    "\n",
    "        xy = np.vstack([xv_, yv_]).T\n",
    "\n",
    "        popt, pcov = curve_fit(quad_scalar_func, xy.T, out_phase1)\n",
    "        quad_no_nan = quad_func(xy, popt)\n",
    "\n",
    "        distance = cosine(out_phase1.flatten(), quad_no_nan.flatten())\n",
    "\n",
    "        quad_no_nan = torch.Tensor(quad_no_nan.flatten())\n",
    "        out_phase1 = torch.Tensor(out_phase1.flatten())\n",
    "\n",
    "        loss = float(mse_loss(quad_no_nan, out_phase1))\n",
    "\n",
    "        c_0.append(round(popt[0],4))\n",
    "        c_1.append(round(popt[1],4))\n",
    "        c_2.append(round(popt[2],4))\n",
    "        c_3.append(round(popt[3],4))\n",
    "        c_4.append(round(popt[4],4))\n",
    "        c_5.append(round(popt[5],4))\n",
    "\n",
    "        cosine_distance.append(round(distance,4))\n",
    "\n",
    "        losses.append(round(loss,4))\n",
    "        \n",
    "    raw_data = {'c0': c_0,\n",
    "            'c1': c_1,\n",
    "            'c2': c_2,\n",
    "            'c3': c_3,\n",
    "            'c4': c_4,\n",
    "            'c5': c_5,\n",
    "            'cosine distance': cosine_distance,\n",
    "            'MSE': losses,\n",
    "            'val acc': val_acc_list,\n",
    "            'val loss': val_loss_list,\n",
    "            'index': index}\n",
    "    \n",
    "    sheet[exp] = raw_data"
   ]
  },
  {
   "cell_type": "code",
   "execution_count": 76,
   "metadata": {},
   "outputs": [],
   "source": [
    "exp = list(sheet.keys())\n",
    "\n",
    "df_1 = pd.DataFrame(sheet[exp[0]], index=sheet[exp[0]]['index'])\n",
    "df_1 = df_1.drop('index', axis=1)\n",
    "df_2 = pd.DataFrame(sheet[exp[1]], index=sheet[exp[1]]['index'])\n",
    "df_2 = df_2.drop('index', axis=1)\n",
    "df_3 = pd.DataFrame(sheet[exp[2]], index=sheet[exp[2]]['index'])\n",
    "df_3 = df_3.drop('index', axis=1)\n",
    "df_4 = pd.DataFrame(sheet[exp[3]], index=sheet[exp[3]]['index'])\n",
    "df_4 = df_4.drop('index', axis=1)"
   ]
  },
  {
   "cell_type": "code",
   "execution_count": 77,
   "metadata": {
    "scrolled": true
   },
   "outputs": [],
   "source": [
    "xlxs_dir='./sample.xlsx'\n",
    "\n",
    "with pd.ExcelWriter(xlxs_dir) as writer:\n",
    "    df_1.to_excel(writer, sheet_name = exp[0])\n",
    "    df_2.to_excel(writer, sheet_name = exp[1])\n",
    "    df_3.to_excel(writer, sheet_name = exp[2])\n",
    "    df_4.to_excel(writer, sheet_name = exp[3])"
   ]
  },
  {
   "cell_type": "code",
   "execution_count": null,
   "metadata": {},
   "outputs": [],
   "source": []
  }
 ],
 "metadata": {
  "kernelspec": {
   "display_name": "Python 3",
   "language": "python",
   "name": "python3"
  },
  "language_info": {
   "codemirror_mode": {
    "name": "ipython",
    "version": 3
   },
   "file_extension": ".py",
   "mimetype": "text/x-python",
   "name": "python",
   "nbconvert_exporter": "python",
   "pygments_lexer": "ipython3",
   "version": "3.6.10"
  }
 },
 "nbformat": 4,
 "nbformat_minor": 4
}
