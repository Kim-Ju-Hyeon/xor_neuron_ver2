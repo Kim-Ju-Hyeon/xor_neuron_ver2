{
 "cells": [
  {
   "cell_type": "code",
   "execution_count": 1,
   "metadata": {},
   "outputs": [],
   "source": [
    "import sys\n",
    "sys.path.append('../xor_neuron')\n",
    "\n",
    "import pickle\n",
    "from glob import glob\n",
    "import os\n",
    "import yaml\n",
    "from easydict import EasyDict as edict\n",
    "import numpy as np\n",
    "import torch\n",
    "from scipy.signal import convolve2d, fftconvolve, convolve\n",
    "from scipy.stats import multivariate_normal\n",
    "\n",
    "import matplotlib.pyplot as plt\n",
    "\n",
    "from model import *\n",
    "from utils.train_helper import load_model"
   ]
  },
  {
   "cell_type": "code",
   "execution_count": 59,
   "metadata": {},
   "outputs": [
    {
     "data": {
      "text/plain": [
       "['../exp/xor_neuron_conv_cifar/ComplexNeuronConv_001_cifar10_2021-Apr-20-07-17-22',\n",
       " '../exp/xor_neuron_conv_cifar/ComplexNeuronConv_001_cifar10_2021-Apr-20-07-17-25',\n",
       " '../exp/xor_neuron_conv_cifar/ComplexNeuronConv_001_cifar10_2021-Apr-21-02-58-09']"
      ]
     },
     "execution_count": 59,
     "metadata": {},
     "output_type": "execute_result"
    }
   ],
   "source": [
    "dirs = glob('../exp/xor_neuron_conv_cifar/*')\n",
    "dirs.sort(key=os.path.abspath)\n",
    "dirs = dirs[:-1]\n",
    "dirs"
   ]
  },
  {
   "cell_type": "code",
   "execution_count": 78,
   "metadata": {},
   "outputs": [
    {
     "data": {
      "text/plain": [
       "['../exp/CIFAR100/xor_neuron_mlp/ComplexNeuronMLP_1_cifar100_0727',\n",
       " '../exp/CIFAR100/xor_neuron_mlp/ComplexNeuronMLP_2_cifar100_0727']"
      ]
     },
     "execution_count": 78,
     "metadata": {},
     "output_type": "execute_result"
    }
   ],
   "source": [
    "dirs = glob('../exp/CIFAR100/xor_neuron_mlp/*')\n",
    "dirs.sort(key=os.path.abspath)\n",
    "dirs"
   ]
  },
  {
   "cell_type": "code",
   "execution_count": 82,
   "metadata": {},
   "outputs": [],
   "source": [
    "dirs = []"
   ]
  },
  {
   "cell_type": "code",
   "execution_count": 84,
   "metadata": {},
   "outputs": [
    {
     "data": {
      "text/plain": [
       "['../exp/3D_ARG/MLP_MNIST/ComplexNeuronMLP_10_mnist_0800',\n",
       " '../exp/3D_ARG/MLP_MNIST/ComplexNeuronMLP_11_mnist_1752',\n",
       " '../exp/3D_ARG/MLP_MNIST/ComplexNeuronMLP_12_mnist_0336',\n",
       " '../exp/3D_ARG/MLP_MNIST/ComplexNeuronMLP_13_mnist_0800',\n",
       " '../exp/3D_ARG/MLP_MNIST/ComplexNeuronMLP_14_mnist_1744',\n",
       " '../exp/3D_ARG/MLP_MNIST/ComplexNeuronMLP_15_mnist_0315',\n",
       " '../exp/3D_ARG/MLP_MNIST/ComplexNeuronMLP_16_mnist_0800',\n",
       " '../exp/3D_ARG/MLP_MNIST/ComplexNeuronMLP_17_mnist_1741',\n",
       " '../exp/3D_ARG/MLP_MNIST/ComplexNeuronMLP_18_mnist_0315',\n",
       " '../exp/3D_ARG/MLP_MNIST/ComplexNeuronMLP_19_mnist_0800',\n",
       " '../exp/3D_ARG/MLP_MNIST/ComplexNeuronMLP_20_mnist_1744',\n",
       " '../exp/3D_ARG/MLP_MNIST/ComplexNeuronMLP_21_mnist_0323']"
      ]
     },
     "execution_count": 84,
     "metadata": {},
     "output_type": "execute_result"
    }
   ],
   "source": [
    "dirs2 =  glob('../exp/3D_ARG/MLP_MNIST/*')\n",
    "dirs2.sort(key=os.path.abspath)\n",
    "# dirs2 = dirs2[1:-1]\n",
    "dirs2"
   ]
  },
  {
   "cell_type": "code",
   "execution_count": 85,
   "metadata": {},
   "outputs": [
    {
     "data": {
      "text/plain": [
       "['../exp/MLP_3D_arg/MNIST/ComplexNeuronMLP_1_mnist_0858',\n",
       " '../exp/MLP_3D_arg/MNIST/ComplexNeuronMLP_2_mnist_0858',\n",
       " '../exp/MLP_3D_arg/MNIST/ComplexNeuronMLP_3_mnist_0635',\n",
       " '../exp/MLP_3D_arg/MNIST/ComplexNeuronMLP_4_mnist_0635']"
      ]
     },
     "execution_count": 85,
     "metadata": {},
     "output_type": "execute_result"
    }
   ],
   "source": [
    "dirs3 =  glob('../exp/MLP_3D_arg/MNIST/*')\n",
    "dirs3.sort(key=os.path.abspath)\n",
    "dirs3"
   ]
  },
  {
   "cell_type": "code",
   "execution_count": 80,
   "metadata": {},
   "outputs": [
    {
     "data": {
      "text/plain": [
       "[]"
      ]
     },
     "execution_count": 80,
     "metadata": {},
     "output_type": "execute_result"
    }
   ],
   "source": [
    "dirs3 =  glob('../exp/2D_arg/CIFAR100/*')\n",
    "dirs3.sort(key=os.path.abspath)\n",
    "dirs3"
   ]
  },
  {
   "cell_type": "code",
   "execution_count": 86,
   "metadata": {},
   "outputs": [
    {
     "data": {
      "text/plain": [
       "16"
      ]
     },
     "execution_count": 86,
     "metadata": {},
     "output_type": "execute_result"
    }
   ],
   "source": [
    "dirs = dirs + dirs2 + dirs3\n",
    "len(dirs)"
   ]
  },
  {
   "cell_type": "code",
   "execution_count": 88,
   "metadata": {
    "scrolled": true
   },
   "outputs": [],
   "source": [
    "for ii, dr in enumerate(dirs):\n",
    "    config_file = glob(dr + '/*.yaml')[0]\n",
    "    config = edict(yaml.load(open(config_file, 'r'), Loader=yaml.FullLoader))\n",
    "    \n",
    "    if config.model.arg_in_dim == 2:\n",
    "        dim = '2D'\n",
    "    elif config.model.arg_in_dim == 3:\n",
    "        dim = '3D'\n",
    "        \n",
    "    if config.model.inner_net == 'mlp':\n",
    "        inner_net = 'MLP'\n",
    "    elif config.model.inner_net =='conv':\n",
    "        inner_net = \"Conv\"\n",
    "    \n",
    "\n",
    "    num = 5\n",
    "    nb = 101\n",
    "    \n",
    "    if dim == '2D':\n",
    "        x = np.linspace(-num, num, nb)\n",
    "        y = np.linspace(-num, num, nb)\n",
    "\n",
    "        xv, yv = np.meshgrid(x, y)\n",
    "\n",
    "        xy = np.vstack([xv.reshape(-1), yv.reshape(-1)]).T\n",
    "        \n",
    "    elif dim == '3D':\n",
    "        num = 5\n",
    "        nb = 101\n",
    "        npr = np.random.RandomState(seed=123)\n",
    "\n",
    "        x = np.linspace(-num, num, nb)\n",
    "        y = np.linspace(-num, num, nb)\n",
    "        z = np.linspace(-num, num, nb)\n",
    "\n",
    "        xv, yv, zv = np.meshgrid(x, y, z)\n",
    "\n",
    "        xy = np.vstack([xv.reshape(-1), yv.reshape(-1), zv.reshape(-1)]).T\n",
    "        \n",
    "    model_pretrain = InnerNet(config)\n",
    "    model_phase1 = InnerNet(config)\n",
    "\n",
    "\n",
    "    load_model(model_pretrain.inner_net, config.model_save + config.pretrain.best_model[0])\n",
    "    model_pretrain.eval()\n",
    "\n",
    "    model_snapshot = torch.load(config.model_save + config.train.best_model, map_location=torch.device('cpu'))\n",
    "\n",
    "    for key in list(model_snapshot['model'].keys()):\n",
    "        model_snapshot['model'][key.replace('0', 'inner_net')] = model_snapshot['model'].pop(key)\n",
    "\n",
    "    model_phase1.load_state_dict(model_snapshot[\"model\"], strict=True)\n",
    "    model_phase1.eval()\n",
    "\n",
    "    if inner_net == 'MLP':\n",
    "        out_pretrain = model_pretrain.inner_net(torch.Tensor(xy))\n",
    "        out_pretrain = out_pretrain.data.numpy()\n",
    "        \n",
    "        out_phase1 = model_phase1.inner_net(torch.Tensor(xy))\n",
    "        \n",
    "        out_inner = out_phase1.data.numpy()\n",
    "        result = np.concatenate((xy, out_inner), axis=1)\n",
    "        \n",
    "        pickle.dump(result, open(f'./Exp_Data/{dim}/{inner_net}/{config.dataset.name.upper()}/InnerNet_Output/out_{config.seed}.p', 'wb'))\n",
    "        \n",
    "    elif inner_net == \"Conv\":\n",
    "        sqrt_batch_size = np.int(np.sqrt(xy.shape[0]))\n",
    "        assert sqrt_batch_size ** 2 == xy.shape[0]\n",
    "        out = xy.T.reshape(1, config.model.arg_in_dim, sqrt_batch_size, sqrt_batch_size)\n",
    "\n",
    "        out_pretrain = model_pretrain.inner_net(torch.Tensor(out))\n",
    "        out_pretrain = out_pretrain.data.numpy().reshape(-1,1)\n",
    "\n",
    "        out_phase1 = model_phase1.inner_net(torch.Tensor(out))\n",
    "    \n",
    "        out_inner = out_phase1.data.numpy()\n",
    "        res = out_inner[0]\n",
    "        mesh = out[0]\n",
    "        \n",
    "        result = np.concatenate((mesh, res))\n",
    "        pickle.dump(result, open(f'./Exp_Data/{dim}/{inner_net}/{config.dataset.name.upper()}/InnerNet_Output/out_{config.seed}.p', 'wb'))\n",
    "        \n",
    "    input2innerAll = glob(dr+'/in2cells.p')\n",
    "    if len(input2innerAll) == 0:\n",
    "        input2innerAll = glob(dr+'/model_save/in2cells.p')\n",
    "    input2innerAll = input2innerAll[0]\n",
    "    input2innerAll = pickle.load(open(input2innerAll, 'rb'))\n",
    "    input2innerAll = [input2innerAll[k] for k in range(len(input2innerAll))]\n",
    "    \n",
    "    if inner_net == 'MLP':\n",
    "        input2innerAll = np.array(input2innerAll)\n",
    "    elif inner_net == 'Conv':\n",
    "        input2innerAll = np.array(input2innerAll[0])\n",
    "        \n",
    "    input2innerAll = np.moveaxis(input2innerAll, -1, 0)\n",
    "    input2innerAll = input2innerAll.reshape((config.model.arg_in_dim, -1))\n",
    "    \n",
    "    xedges = yedges = zedges = np.arange(-5.05,5.1,0.1)\n",
    "    pdf, _, _ = np.histogram2d(input2innerAll[0], input2innerAll[1], bins=(xedges, yedges))\n",
    "    pdf = convolve2d(pdf, gaussian_kernel, mode='same')\n",
    "    pdf /= sum(pdf.flatten())\n",
    "    \n",
    "    pickle.dump(pdf, open(f'./Exp_Data/{dim}/{inner_net}/{config.dataset.name.upper()}/Input_Distribution/input_distribution_{config.seed}.p', 'wb'))"
   ]
  },
  {
   "cell_type": "code",
   "execution_count": 89,
   "metadata": {},
   "outputs": [
    {
     "data": {
      "text/plain": [
       "(3, 3600000)"
      ]
     },
     "execution_count": 89,
     "metadata": {},
     "output_type": "execute_result"
    }
   ],
   "source": [
    "input2innerAll.shape"
   ]
  },
  {
   "cell_type": "code",
   "execution_count": 90,
   "metadata": {},
   "outputs": [
    {
     "data": {
      "text/plain": [
       "(101, 101)"
      ]
     },
     "execution_count": 90,
     "metadata": {},
     "output_type": "execute_result"
    }
   ],
   "source": [
    "pdf.shape"
   ]
  },
  {
   "cell_type": "code",
   "execution_count": 91,
   "metadata": {},
   "outputs": [
    {
     "data": {
      "text/plain": [
       "(1030301, 3)"
      ]
     },
     "execution_count": 91,
     "metadata": {},
     "output_type": "execute_result"
    }
   ],
   "source": [
    "xy.shape"
   ]
  },
  {
   "cell_type": "code",
   "execution_count": 92,
   "metadata": {},
   "outputs": [
    {
     "data": {
      "text/plain": [
       "(1030301, 4)"
      ]
     },
     "execution_count": 92,
     "metadata": {},
     "output_type": "execute_result"
    }
   ],
   "source": [
    "result.shape"
   ]
  },
  {
   "cell_type": "code",
   "execution_count": 93,
   "metadata": {},
   "outputs": [
    {
     "data": {
      "text/plain": [
       "array([[-5.        , -5.        , -5.        ,  1.11572051],\n",
       "       [-5.        , -5.        , -4.9       ,  1.15741193],\n",
       "       [-5.        , -5.        , -4.8       ,  1.199103  ],\n",
       "       ...,\n",
       "       [ 5.        ,  5.        ,  4.8       ,  0.34355482],\n",
       "       [ 5.        ,  5.        ,  4.9       ,  0.38146681],\n",
       "       [ 5.        ,  5.        ,  5.        ,  0.419379  ]])"
      ]
     },
     "execution_count": 93,
     "metadata": {},
     "output_type": "execute_result"
    }
   ],
   "source": [
    "result"
   ]
  },
  {
   "cell_type": "code",
   "execution_count": 95,
   "metadata": {},
   "outputs": [],
   "source": [
    "xedges = yedges = zedges = np.arange(-5.05,5.1,0.1)"
   ]
  },
  {
   "cell_type": "code",
   "execution_count": 102,
   "metadata": {},
   "outputs": [
    {
     "data": {
      "text/plain": [
       "array([-5.05, -4.95, -4.85, -4.75, -4.65, -4.55, -4.45, -4.35, -4.25,\n",
       "       -4.15, -4.05, -3.95, -3.85, -3.75, -3.65, -3.55, -3.45, -3.35,\n",
       "       -3.25, -3.15, -3.05, -2.95, -2.85, -2.75, -2.65, -2.55, -2.45,\n",
       "       -2.35, -2.25, -2.15, -2.05, -1.95, -1.85, -1.75, -1.65, -1.55,\n",
       "       -1.45, -1.35, -1.25, -1.15, -1.05, -0.95, -0.85, -0.75, -0.65,\n",
       "       -0.55, -0.45, -0.35, -0.25, -0.15, -0.05,  0.05,  0.15,  0.25,\n",
       "        0.35,  0.45,  0.55,  0.65,  0.75,  0.85,  0.95,  1.05,  1.15,\n",
       "        1.25,  1.35,  1.45,  1.55,  1.65,  1.75,  1.85,  1.95,  2.05,\n",
       "        2.15,  2.25,  2.35,  2.45,  2.55,  2.65,  2.75,  2.85,  2.95,\n",
       "        3.05,  3.15,  3.25,  3.35,  3.45,  3.55,  3.65,  3.75,  3.85,\n",
       "        3.95,  4.05,  4.15,  4.25,  4.35,  4.45,  4.55,  4.65,  4.75,\n",
       "        4.85,  4.95,  5.05])"
      ]
     },
     "execution_count": 102,
     "metadata": {},
     "output_type": "execute_result"
    }
   ],
   "source": [
    "xedges"
   ]
  },
  {
   "cell_type": "code",
   "execution_count": 103,
   "metadata": {},
   "outputs": [],
   "source": [
    "H, edges = np.histogramdd([input2innerAll[0], input2innerAll[1], input2innerAll[2]], bins = (xedges, yedges, zedges))"
   ]
  },
  {
   "cell_type": "code",
   "execution_count": 104,
   "metadata": {},
   "outputs": [
    {
     "data": {
      "text/plain": [
       "(101, 101, 101)"
      ]
     },
     "execution_count": 104,
     "metadata": {},
     "output_type": "execute_result"
    }
   ],
   "source": [
    "H.shape"
   ]
  },
  {
   "cell_type": "code",
   "execution_count": null,
   "metadata": {},
   "outputs": [],
   "source": []
  }
 ],
 "metadata": {
  "kernelspec": {
   "display_name": "Python 3",
   "language": "python",
   "name": "python3"
  },
  "language_info": {
   "codemirror_mode": {
    "name": "ipython",
    "version": 3
   },
   "file_extension": ".py",
   "mimetype": "text/x-python",
   "name": "python",
   "nbconvert_exporter": "python",
   "pygments_lexer": "ipython3",
   "version": "3.6.10"
  }
 },
 "nbformat": 4,
 "nbformat_minor": 4
}
