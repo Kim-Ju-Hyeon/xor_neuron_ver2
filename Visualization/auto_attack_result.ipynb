{
 "cells": [
  {
   "cell_type": "code",
   "execution_count": 1,
   "metadata": {},
   "outputs": [],
   "source": [
    "import sys\n",
    "\n",
    "sys.path.append('../xor_neuron')"
   ]
  },
  {
   "cell_type": "code",
   "execution_count": 2,
   "metadata": {},
   "outputs": [],
   "source": [
    "import pickle\n",
    "from glob import glob\n",
    "import os\n",
    "import yaml\n",
    "from easydict import EasyDict as edict\n",
    "import numpy as np\n",
    "import torch\n",
    "from scipy.signal import convolve2d, fftconvolve, convolve\n",
    "from scipy.stats import multivariate_normal\n",
    "from scipy.optimize import curve_fit\n",
    "from scipy.spatial.distance import cosine\n",
    "\n",
    "import matplotlib as mpl\n",
    "from matplotlib import gridspec\n",
    "import matplotlib.colors as colors\n",
    "from mpl_toolkits.axes_grid1 import make_axes_locatable\n",
    "from matplotlib.backends.backend_pdf import PdfPages\n",
    "\n",
    "from model import *\n",
    "from utils.train_helper import save_outphase, make_mask, load_model"
   ]
  },
  {
   "cell_type": "code",
   "execution_count": 6,
   "metadata": {},
   "outputs": [
    {
     "data": {
      "text/plain": [
       "['../exp_2/Control/MLP/MNIST/Control_MLP_10_mnist_191526',\n",
       " '../exp_2/Control/MLP/MNIST/Control_MLP_11_mnist_201415',\n",
       " '../exp_2/Control/MLP/MNIST/Control_MLP_12_mnist_211321',\n",
       " '../exp_2/Control/MLP/MNIST/Control_MLP_13_mnist_221441',\n",
       " '../exp_2/Control/MLP/MNIST/Control_MLP_14_mnist_231209',\n",
       " '../exp_2/Control/MLP/MNIST/Control_MLP_15_mnist_000952',\n",
       " '../exp_2/Control/MLP/MNIST/Control_MLP_16_mnist_010911',\n",
       " '../exp_2/Control/MLP/MNIST/Control_MLP_17_mnist_020739',\n",
       " '../exp_2/Control/MLP/MNIST/Control_MLP_18_mnist_030634',\n",
       " '../exp_2/Control/MLP/MNIST/Control_MLP_19_mnist_040633',\n",
       " '../exp_2/Control/MLP/MNIST/Control_MLP_1_mnist_101547',\n",
       " '../exp_2/Control/MLP/MNIST/Control_MLP_20_mnist_050434',\n",
       " '../exp_2/Control/MLP/MNIST/Control_MLP_21_mnist_060348',\n",
       " '../exp_2/Control/MLP/MNIST/Control_MLP_22_mnist_070124',\n",
       " '../exp_2/Control/MLP/MNIST/Control_MLP_23_mnist_080121',\n",
       " '../exp_2/Control/MLP/MNIST/Control_MLP_24_mnist_090408',\n",
       " '../exp_2/Control/MLP/MNIST/Control_MLP_2_mnist_111305',\n",
       " '../exp_2/Control/MLP/MNIST/Control_MLP_3_mnist_121217',\n",
       " '../exp_2/Control/MLP/MNIST/Control_MLP_4_mnist_131433',\n",
       " '../exp_2/Control/MLP/MNIST/Control_MLP_5_mnist_141209',\n",
       " '../exp_2/Control/MLP/MNIST/Control_MLP_6_mnist_151230',\n",
       " '../exp_2/Control/MLP/MNIST/Control_MLP_7_mnist_161528',\n",
       " '../exp_2/Control/MLP/MNIST/Control_MLP_8_mnist_171334',\n",
       " '../exp_2/Control/MLP/MNIST/Control_MLP_9_mnist_181325']"
      ]
     },
     "execution_count": 6,
     "metadata": {},
     "output_type": "execute_result"
    }
   ],
   "source": [
    "dirs = glob('../exp_2/Control/MLP/MNIST/*')\n",
    "dirs.sort()\n",
    "dirs"
   ]
  },
  {
   "cell_type": "code",
   "execution_count": 9,
   "metadata": {},
   "outputs": [],
   "source": [
    "result = pickle.load(open(dirs[0]+'/auto_attack_result.p', 'rb'))"
   ]
  },
  {
   "cell_type": "code",
   "execution_count": 10,
   "metadata": {},
   "outputs": [
    {
     "data": {
      "text/plain": [
       "{'clean': 0.9498, 'apgd-ce': 0.3522, 'apgd-dlr': 0.2252}"
      ]
     },
     "execution_count": 10,
     "metadata": {},
     "output_type": "execute_result"
    }
   ],
   "source": [
    "result"
   ]
  },
  {
   "cell_type": "code",
   "execution_count": 13,
   "metadata": {},
   "outputs": [],
   "source": [
    "clean_acc = []\n",
    "apgd_ce = []\n",
    "apgd_dlr = []\n",
    "\n",
    "for dd in dirs:\n",
    "    result = pickle.load(open(dd+'/auto_attack_result.p', 'rb'))\n",
    "    \n",
    "    clean_acc.append(result['clean'])\n",
    "    apgd_ce.append(result['apgd-ce'])\n",
    "    apgd_dlr.append(result['apgd-dlr'])"
   ]
  },
  {
   "cell_type": "code",
   "execution_count": 14,
   "metadata": {},
   "outputs": [],
   "source": [
    "clean_acc = np.array(clean_acc)\n",
    "apgd_ce = np.array(apgd_ce)\n",
    "apgd_dlr = np.array(apgd_dlr)"
   ]
  },
  {
   "cell_type": "code",
   "execution_count": 15,
   "metadata": {},
   "outputs": [
    {
     "data": {
      "text/plain": [
       "0.9513041666666666"
      ]
     },
     "execution_count": 15,
     "metadata": {},
     "output_type": "execute_result"
    }
   ],
   "source": [
    "clean_acc.mean()"
   ]
  },
  {
   "cell_type": "code",
   "execution_count": 17,
   "metadata": {},
   "outputs": [
    {
     "data": {
      "text/plain": [
       "0.0019281854956293852"
      ]
     },
     "execution_count": 17,
     "metadata": {},
     "output_type": "execute_result"
    }
   ],
   "source": [
    "clean_acc.std()"
   ]
  },
  {
   "cell_type": "code",
   "execution_count": 18,
   "metadata": {},
   "outputs": [
    {
     "data": {
      "text/plain": [
       "0.33965416666666665"
      ]
     },
     "execution_count": 18,
     "metadata": {},
     "output_type": "execute_result"
    }
   ],
   "source": [
    "apgd_ce.mean()"
   ]
  },
  {
   "cell_type": "code",
   "execution_count": 19,
   "metadata": {},
   "outputs": [
    {
     "data": {
      "text/plain": [
       "0.01565359328201959"
      ]
     },
     "execution_count": 19,
     "metadata": {},
     "output_type": "execute_result"
    }
   ],
   "source": [
    "apgd_ce.std()"
   ]
  },
  {
   "cell_type": "code",
   "execution_count": 20,
   "metadata": {},
   "outputs": [
    {
     "data": {
      "text/plain": [
       "0.21342083333333337"
      ]
     },
     "execution_count": 20,
     "metadata": {},
     "output_type": "execute_result"
    }
   ],
   "source": [
    "apgd_dlr.mean()"
   ]
  },
  {
   "cell_type": "code",
   "execution_count": 22,
   "metadata": {},
   "outputs": [
    {
     "data": {
      "text/plain": [
       "0.012647627549816957"
      ]
     },
     "execution_count": 22,
     "metadata": {},
     "output_type": "execute_result"
    }
   ],
   "source": [
    "apgd_dlr.std()"
   ]
  },
  {
   "cell_type": "code",
   "execution_count": null,
   "metadata": {},
   "outputs": [],
   "source": []
  }
 ],
 "metadata": {
  "kernelspec": {
   "display_name": "Python 3",
   "language": "python",
   "name": "python3"
  },
  "language_info": {
   "codemirror_mode": {
    "name": "ipython",
    "version": 3
   },
   "file_extension": ".py",
   "mimetype": "text/x-python",
   "name": "python",
   "nbconvert_exporter": "python",
   "pygments_lexer": "ipython3",
   "version": "3.6.10"
  }
 },
 "nbformat": 4,
 "nbformat_minor": 4
}
